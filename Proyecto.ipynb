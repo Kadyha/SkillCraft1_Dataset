{
  "nbformat": 4,
  "nbformat_minor": 0,
  "metadata": {
    "colab": {
      "name": "Proyecto.ipynb",
      "provenance": [],
      "collapsed_sections": [
        "c1TOlnB1eiff",
        "X6NwTyPGVd6L"
      ],
      "toc_visible": true
    },
    "kernelspec": {
      "name": "python3",
      "display_name": "Python 3"
    },
    "language_info": {
      "name": "python"
    }
  },
  "cells": [
    {
      "cell_type": "markdown",
      "metadata": {
        "id": "QaKc77NY3H4Z"
      },
      "source": [
        "**Integrante 1:** Kadyha Paz Gutierrez  \n",
        "**CC:** 1020482429\n",
        "\n",
        "**Integrante 2:** DANIEL MARTÍNEZ GALEANO   \n",
        "**CC:** 1036645337"
      ]
    },
    {
      "cell_type": "markdown",
      "metadata": {
        "id": "c5J0AWIoeSPz"
      },
      "source": [
        "#Librerias necesarias\n"
      ]
    },
    {
      "cell_type": "code",
      "metadata": {
        "id": "dsE2xA6CwFP6",
        "colab": {
          "base_uri": "https://localhost:8080/"
        },
        "outputId": "735e1f3a-108d-4f8f-83a0-f2023e7b6a6a"
      },
      "source": [
        "import numpy as np\n",
        "import pandas as pd\n",
        "import seaborn as sns\n",
        "from scipy import stats\n",
        "from scipy import optimize\n",
        "import matplotlib.pyplot as plt\n",
        "from sklearn.discriminant_analysis import QuadraticDiscriminantAnalysis         #Discriminante cuadratico\n",
        "from sklearn.neighbors import KernelDensity                                     #Ventana de Parzen (Método kernel)\n",
        "from sklearn.ensemble import GradientBoostingClassifier                         #Gradient Boosting Tree\n",
        "from sklearn.neural_network import MLPClassifier                                #Redes Neuronales Artificiales\n",
        "from sklearn.svm import SVC                                                     #Maquina de soporte vectorial\n",
        "from sklearn.model_selection import train_test_split\n",
        "from sklearn.model_selection import StratifiedKFold                             #Validación cruzada (k-fold cross-validation)\n",
        "from sklearn.model_selection import learning_curve\n",
        "from sklearn.model_selection import ShuffleSplit\n",
        "from sklearn.metrics import accuracy_score\n",
        "from sklearn.metrics import matthews_corrcoef\n",
        "from sklearn.metrics import balanced_accuracy_score\n",
        "from sklearn.decomposition import PCA\n",
        "from sklearn.preprocessing import StandardScaler\n",
        "from itertools import product\n",
        "from mlxtend.feature_selection import SequentialFeatureSelector as SFS\n",
        "from sklearn.preprocessing import MinMaxScaler\n",
        "import warnings\n",
        "warnings.filterwarnings(\"ignore\")\n",
        "%matplotlib inline"
      ],
      "execution_count": 3,
      "outputs": [
        {
          "output_type": "stream",
          "name": "stderr",
          "text": [
            "/usr/local/lib/python3.7/dist-packages/sklearn/externals/joblib/__init__.py:15: FutureWarning: sklearn.externals.joblib is deprecated in 0.21 and will be removed in 0.23. Please import this functionality directly from joblib, which can be installed with: pip install joblib. If this warning is raised when loading pickled models, you may need to re-serialize those models with scikit-learn 0.21+.\n",
            "  warnings.warn(msg, category=FutureWarning)\n"
          ]
        }
      ]
    },
    {
      "cell_type": "markdown",
      "metadata": {
        "id": "ADlgpGiqebfq"
      },
      "source": [
        "#Obtención y limpieza del dataset"
      ]
    },
    {
      "cell_type": "markdown",
      "metadata": {
        "id": "gw4th2UW5yh2"
      },
      "source": [
        "###Se carga la base de datos"
      ]
    },
    {
      "cell_type": "code",
      "metadata": {
        "colab": {
          "base_uri": "https://localhost:8080/"
        },
        "id": "JTqWimYfdhsr",
        "outputId": "b44497af-7ac2-4fce-d23b-3d0d5dd7da5e"
      },
      "source": [
        "!git clone https://github.com/Kadyha/SkillCraft1_Dataset.git"
      ],
      "execution_count": 4,
      "outputs": [
        {
          "output_type": "stream",
          "name": "stdout",
          "text": [
            "fatal: destination path 'SkillCraft1_Dataset' already exists and is not an empty directory.\n"
          ]
        }
      ]
    },
    {
      "cell_type": "code",
      "metadata": {
        "colab": {
          "base_uri": "https://localhost:8080/",
          "height": 0
        },
        "id": "mKxrfXMMj28q",
        "outputId": "2cfa5822-1ceb-459a-a1f4-5753c5a42003"
      },
      "source": [
        "df = pd.read_csv('SkillCraft1_Dataset/SkillCraft1_Dataset.csv')\n",
        "df.head()"
      ],
      "execution_count": 5,
      "outputs": [
        {
          "output_type": "execute_result",
          "data": {
            "text/html": [
              "<div>\n",
              "<style scoped>\n",
              "    .dataframe tbody tr th:only-of-type {\n",
              "        vertical-align: middle;\n",
              "    }\n",
              "\n",
              "    .dataframe tbody tr th {\n",
              "        vertical-align: top;\n",
              "    }\n",
              "\n",
              "    .dataframe thead th {\n",
              "        text-align: right;\n",
              "    }\n",
              "</style>\n",
              "<table border=\"1\" class=\"dataframe\">\n",
              "  <thead>\n",
              "    <tr style=\"text-align: right;\">\n",
              "      <th></th>\n",
              "      <th>GameID</th>\n",
              "      <th>LeagueIndex</th>\n",
              "      <th>Age</th>\n",
              "      <th>HoursPerWeek</th>\n",
              "      <th>TotalHours</th>\n",
              "      <th>APM</th>\n",
              "      <th>SelectByHotkeys</th>\n",
              "      <th>AssignToHotkeys</th>\n",
              "      <th>UniqueHotkeys</th>\n",
              "      <th>MinimapAttacks</th>\n",
              "      <th>MinimapRightClicks</th>\n",
              "      <th>NumberOfPACs</th>\n",
              "      <th>GapBetweenPACs</th>\n",
              "      <th>ActionLatency</th>\n",
              "      <th>ActionsInPAC</th>\n",
              "      <th>TotalMapExplored</th>\n",
              "      <th>WorkersMade</th>\n",
              "      <th>UniqueUnitsMade</th>\n",
              "      <th>ComplexUnitsMade</th>\n",
              "      <th>ComplexAbilitiesUsed</th>\n",
              "    </tr>\n",
              "  </thead>\n",
              "  <tbody>\n",
              "    <tr>\n",
              "      <th>0</th>\n",
              "      <td>52</td>\n",
              "      <td>5</td>\n",
              "      <td>27</td>\n",
              "      <td>10</td>\n",
              "      <td>3000</td>\n",
              "      <td>143.7180</td>\n",
              "      <td>0.003515</td>\n",
              "      <td>0.000220</td>\n",
              "      <td>7</td>\n",
              "      <td>0.000110</td>\n",
              "      <td>0.000392</td>\n",
              "      <td>0.004849</td>\n",
              "      <td>32.6677</td>\n",
              "      <td>40.8673</td>\n",
              "      <td>4.7508</td>\n",
              "      <td>28</td>\n",
              "      <td>0.001397</td>\n",
              "      <td>6</td>\n",
              "      <td>0.0</td>\n",
              "      <td>0.000000</td>\n",
              "    </tr>\n",
              "    <tr>\n",
              "      <th>1</th>\n",
              "      <td>55</td>\n",
              "      <td>5</td>\n",
              "      <td>23</td>\n",
              "      <td>10</td>\n",
              "      <td>5000</td>\n",
              "      <td>129.2322</td>\n",
              "      <td>0.003304</td>\n",
              "      <td>0.000259</td>\n",
              "      <td>4</td>\n",
              "      <td>0.000294</td>\n",
              "      <td>0.000432</td>\n",
              "      <td>0.004307</td>\n",
              "      <td>32.9194</td>\n",
              "      <td>42.3454</td>\n",
              "      <td>4.8434</td>\n",
              "      <td>22</td>\n",
              "      <td>0.001194</td>\n",
              "      <td>5</td>\n",
              "      <td>0.0</td>\n",
              "      <td>0.000208</td>\n",
              "    </tr>\n",
              "    <tr>\n",
              "      <th>2</th>\n",
              "      <td>56</td>\n",
              "      <td>4</td>\n",
              "      <td>30</td>\n",
              "      <td>10</td>\n",
              "      <td>200</td>\n",
              "      <td>69.9612</td>\n",
              "      <td>0.001101</td>\n",
              "      <td>0.000336</td>\n",
              "      <td>4</td>\n",
              "      <td>0.000294</td>\n",
              "      <td>0.000461</td>\n",
              "      <td>0.002926</td>\n",
              "      <td>44.6475</td>\n",
              "      <td>75.3548</td>\n",
              "      <td>4.0430</td>\n",
              "      <td>22</td>\n",
              "      <td>0.000745</td>\n",
              "      <td>6</td>\n",
              "      <td>0.0</td>\n",
              "      <td>0.000189</td>\n",
              "    </tr>\n",
              "    <tr>\n",
              "      <th>3</th>\n",
              "      <td>57</td>\n",
              "      <td>3</td>\n",
              "      <td>19</td>\n",
              "      <td>20</td>\n",
              "      <td>400</td>\n",
              "      <td>107.6016</td>\n",
              "      <td>0.001034</td>\n",
              "      <td>0.000213</td>\n",
              "      <td>1</td>\n",
              "      <td>0.000053</td>\n",
              "      <td>0.000543</td>\n",
              "      <td>0.003783</td>\n",
              "      <td>29.2203</td>\n",
              "      <td>53.7352</td>\n",
              "      <td>4.9155</td>\n",
              "      <td>19</td>\n",
              "      <td>0.000426</td>\n",
              "      <td>7</td>\n",
              "      <td>0.0</td>\n",
              "      <td>0.000384</td>\n",
              "    </tr>\n",
              "    <tr>\n",
              "      <th>4</th>\n",
              "      <td>58</td>\n",
              "      <td>3</td>\n",
              "      <td>32</td>\n",
              "      <td>10</td>\n",
              "      <td>500</td>\n",
              "      <td>122.8908</td>\n",
              "      <td>0.001136</td>\n",
              "      <td>0.000327</td>\n",
              "      <td>2</td>\n",
              "      <td>0.000000</td>\n",
              "      <td>0.001329</td>\n",
              "      <td>0.002368</td>\n",
              "      <td>22.6885</td>\n",
              "      <td>62.0813</td>\n",
              "      <td>9.3740</td>\n",
              "      <td>15</td>\n",
              "      <td>0.001174</td>\n",
              "      <td>4</td>\n",
              "      <td>0.0</td>\n",
              "      <td>0.000019</td>\n",
              "    </tr>\n",
              "  </tbody>\n",
              "</table>\n",
              "</div>"
            ],
            "text/plain": [
              "   GameID  LeagueIndex  ... ComplexUnitsMade ComplexAbilitiesUsed\n",
              "0      52            5  ...              0.0             0.000000\n",
              "1      55            5  ...              0.0             0.000208\n",
              "2      56            4  ...              0.0             0.000189\n",
              "3      57            3  ...              0.0             0.000384\n",
              "4      58            3  ...              0.0             0.000019\n",
              "\n",
              "[5 rows x 20 columns]"
            ]
          },
          "metadata": {},
          "execution_count": 5
        }
      ]
    },
    {
      "cell_type": "markdown",
      "metadata": {
        "id": "c1TOlnB1eiff"
      },
      "source": [
        "##Se buscan valores faltantes"
      ]
    },
    {
      "cell_type": "code",
      "metadata": {
        "colab": {
          "base_uri": "https://localhost:8080/"
        },
        "id": "gSvdPBuJm0E2",
        "outputId": "b196e3a7-91dd-49e7-8e25-c45291d5fda7"
      },
      "source": [
        "k = df.isna().sum()\n",
        "k"
      ],
      "execution_count": 6,
      "outputs": [
        {
          "output_type": "execute_result",
          "data": {
            "text/plain": [
              "GameID                  0\n",
              "LeagueIndex             0\n",
              "Age                     0\n",
              "HoursPerWeek            0\n",
              "TotalHours              0\n",
              "APM                     0\n",
              "SelectByHotkeys         0\n",
              "AssignToHotkeys         0\n",
              "UniqueHotkeys           0\n",
              "MinimapAttacks          0\n",
              "MinimapRightClicks      0\n",
              "NumberOfPACs            0\n",
              "GapBetweenPACs          0\n",
              "ActionLatency           0\n",
              "ActionsInPAC            0\n",
              "TotalMapExplored        0\n",
              "WorkersMade             0\n",
              "UniqueUnitsMade         0\n",
              "ComplexUnitsMade        0\n",
              "ComplexAbilitiesUsed    0\n",
              "dtype: int64"
            ]
          },
          "metadata": {},
          "execution_count": 6
        }
      ]
    },
    {
      "cell_type": "code",
      "metadata": {
        "colab": {
          "base_uri": "https://localhost:8080/"
        },
        "id": "N7-ClPs1laUg",
        "outputId": "56dc8461-6b2c-4e8e-8411-8d9bce11bfee"
      },
      "source": [
        "df.shape"
      ],
      "execution_count": 7,
      "outputs": [
        {
          "output_type": "execute_result",
          "data": {
            "text/plain": [
              "(3395, 20)"
            ]
          },
          "metadata": {},
          "execution_count": 7
        }
      ]
    },
    {
      "cell_type": "code",
      "metadata": {
        "colab": {
          "base_uri": "https://localhost:8080/",
          "height": 0
        },
        "id": "cGCOygMmm0Cf",
        "outputId": "d0d18c1f-f8c3-4081-bfd7-3d565ba0695d"
      },
      "source": [
        "ax = plt.figure(figsize=(25,10)).add_subplot(111)\n",
        "ax.imshow(df.isna().values.T)\n",
        "ax.set_aspect(90)\n",
        "plt.yticks(range(df.shape[1]), df.columns);"
      ],
      "execution_count": 8,
      "outputs": [
        {
          "output_type": "display_data",
          "data": {
            "image/png": "[encoded data removed]",
            "text/plain": [
              "<Figure size 1800x720 with 1 Axes>"
            ]
          },
          "metadata": {
            "needs_background": "light"
          }
        }
      ]
    },
    {
      "cell_type": "markdown",
      "metadata": {
        "id": "wy-3ovOjfS4D"
      },
      "source": [
        "Inicialmente parece que no hay valores faltantes, sin embargo al analizar la información del dataset se puede notar que algunos tipos de datos no coinciden con los que se encuentran en la documentación"
      ]
    },
    {
      "cell_type": "code",
      "metadata": {
        "colab": {
          "base_uri": "https://localhost:8080/"
        },
        "id": "8ZYCPlO-lQRs",
        "outputId": "9c5f77a6-ac2c-4431-8300-71df2686089d"
      },
      "source": [
        "df.info()"
      ],
      "execution_count": 9,
      "outputs": [
        {
          "output_type": "stream",
          "name": "stdout",
          "text": [
            "<class 'pandas.core.frame.DataFrame'>\n",
            "RangeIndex: 3395 entries, 0 to 3394\n",
            "Data columns (total 20 columns):\n",
            " #   Column                Non-Null Count  Dtype  \n",
            "---  ------                --------------  -----  \n",
            " 0   GameID                3395 non-null   int64  \n",
            " 1   LeagueIndex           3395 non-null   int64  \n",
            " 2   Age                   3395 non-null   object \n",
            " 3   HoursPerWeek          3395 non-null   object \n",
            " 4   TotalHours            3395 non-null   object \n",
            " 5   APM                   3395 non-null   float64\n",
            " 6   SelectByHotkeys       3395 non-null   float64\n",
            " 7   AssignToHotkeys       3395 non-null   float64\n",
            " 8   UniqueHotkeys         3395 non-null   int64  \n",
            " 9   MinimapAttacks        3395 non-null   float64\n",
            " 10  MinimapRightClicks    3395 non-null   float64\n",
            " 11  NumberOfPACs          3395 non-null   float64\n",
            " 12  GapBetweenPACs        3395 non-null   float64\n",
            " 13  ActionLatency         3395 non-null   float64\n",
            " 14  ActionsInPAC          3395 non-null   float64\n",
            " 15  TotalMapExplored      3395 non-null   int64  \n",
            " 16  WorkersMade           3395 non-null   float64\n",
            " 17  UniqueUnitsMade       3395 non-null   int64  \n",
            " 18  ComplexUnitsMade      3395 non-null   float64\n",
            " 19  ComplexAbilitiesUsed  3395 non-null   float64\n",
            "dtypes: float64(12), int64(5), object(3)\n",
            "memory usage: 530.6+ KB\n"
          ]
        }
      ]
    },
    {
      "cell_type": "markdown",
      "metadata": {
        "id": "1uLIE7Qmff0X"
      },
      "source": [
        "Se puede encontrar el simbolo \"?\" en el dataset, este debería tener unicamente valores númericos"
      ]
    },
    {
      "cell_type": "code",
      "metadata": {
        "colab": {
          "base_uri": "https://localhost:8080/",
          "height": 0
        },
        "id": "RXVVkY5GllcQ",
        "outputId": "d45c4a18-24b4-4fc2-a190-ddef74dada18"
      },
      "source": [
        "plt.hist(df.Age, bins=60);"
      ],
      "execution_count": 10,
      "outputs": [
        {
          "output_type": "display_data",
          "data": {
            "image/png": "[encoded data removed]",
            "text/plain": [
              "<Figure size 432x288 with 1 Axes>"
            ]
          },
          "metadata": {
            "needs_background": "light"
          }
        }
      ]
    },
    {
      "cell_type": "code",
      "metadata": {
        "colab": {
          "base_uri": "https://localhost:8080/",
          "height": 0
        },
        "id": "kXYIIC-2rI1t",
        "outputId": "b1c64e63-4ccf-4062-c5c2-4d34197b7cf4"
      },
      "source": [
        "df.tail()"
      ],
      "execution_count": 11,
      "outputs": [
        {
          "output_type": "execute_result",
          "data": {
            "text/html": [
              "<div>\n",
              "<style scoped>\n",
              "    .dataframe tbody tr th:only-of-type {\n",
              "        vertical-align: middle;\n",
              "    }\n",
              "\n",
              "    .dataframe tbody tr th {\n",
              "        vertical-align: top;\n",
              "    }\n",
              "\n",
              "    .dataframe thead th {\n",
              "        text-align: right;\n",
              "    }\n",
              "</style>\n",
              "<table border=\"1\" class=\"dataframe\">\n",
              "  <thead>\n",
              "    <tr style=\"text-align: right;\">\n",
              "      <th></th>\n",
              "      <th>GameID</th>\n",
              "      <th>LeagueIndex</th>\n",
              "      <th>Age</th>\n",
              "      <th>HoursPerWeek</th>\n",
              "      <th>TotalHours</th>\n",
              "      <th>APM</th>\n",
              "      <th>SelectByHotkeys</th>\n",
              "      <th>AssignToHotkeys</th>\n",
              "      <th>UniqueHotkeys</th>\n",
              "      <th>MinimapAttacks</th>\n",
              "      <th>MinimapRightClicks</th>\n",
              "      <th>NumberOfPACs</th>\n",
              "      <th>GapBetweenPACs</th>\n",
              "      <th>ActionLatency</th>\n",
              "      <th>ActionsInPAC</th>\n",
              "      <th>TotalMapExplored</th>\n",
              "      <th>WorkersMade</th>\n",
              "      <th>UniqueUnitsMade</th>\n",
              "      <th>ComplexUnitsMade</th>\n",
              "      <th>ComplexAbilitiesUsed</th>\n",
              "    </tr>\n",
              "  </thead>\n",
              "  <tbody>\n",
              "    <tr>\n",
              "      <th>3390</th>\n",
              "      <td>10089</td>\n",
              "      <td>8</td>\n",
              "      <td>?</td>\n",
              "      <td>?</td>\n",
              "      <td>?</td>\n",
              "      <td>259.6296</td>\n",
              "      <td>0.020425</td>\n",
              "      <td>0.000743</td>\n",
              "      <td>9</td>\n",
              "      <td>0.000621</td>\n",
              "      <td>0.000146</td>\n",
              "      <td>0.004555</td>\n",
              "      <td>18.6059</td>\n",
              "      <td>42.8342</td>\n",
              "      <td>6.2754</td>\n",
              "      <td>46</td>\n",
              "      <td>0.000877</td>\n",
              "      <td>5</td>\n",
              "      <td>0.000000</td>\n",
              "      <td>0.000000</td>\n",
              "    </tr>\n",
              "    <tr>\n",
              "      <th>3391</th>\n",
              "      <td>10090</td>\n",
              "      <td>8</td>\n",
              "      <td>?</td>\n",
              "      <td>?</td>\n",
              "      <td>?</td>\n",
              "      <td>314.6700</td>\n",
              "      <td>0.028043</td>\n",
              "      <td>0.001157</td>\n",
              "      <td>10</td>\n",
              "      <td>0.000246</td>\n",
              "      <td>0.001083</td>\n",
              "      <td>0.004259</td>\n",
              "      <td>14.3023</td>\n",
              "      <td>36.1156</td>\n",
              "      <td>7.1965</td>\n",
              "      <td>16</td>\n",
              "      <td>0.000788</td>\n",
              "      <td>4</td>\n",
              "      <td>0.000000</td>\n",
              "      <td>0.000000</td>\n",
              "    </tr>\n",
              "    <tr>\n",
              "      <th>3392</th>\n",
              "      <td>10092</td>\n",
              "      <td>8</td>\n",
              "      <td>?</td>\n",
              "      <td>?</td>\n",
              "      <td>?</td>\n",
              "      <td>299.4282</td>\n",
              "      <td>0.028341</td>\n",
              "      <td>0.000860</td>\n",
              "      <td>7</td>\n",
              "      <td>0.000338</td>\n",
              "      <td>0.000169</td>\n",
              "      <td>0.004439</td>\n",
              "      <td>12.4028</td>\n",
              "      <td>39.5156</td>\n",
              "      <td>6.3979</td>\n",
              "      <td>19</td>\n",
              "      <td>0.001260</td>\n",
              "      <td>4</td>\n",
              "      <td>0.000000</td>\n",
              "      <td>0.000000</td>\n",
              "    </tr>\n",
              "    <tr>\n",
              "      <th>3393</th>\n",
              "      <td>10094</td>\n",
              "      <td>8</td>\n",
              "      <td>?</td>\n",
              "      <td>?</td>\n",
              "      <td>?</td>\n",
              "      <td>375.8664</td>\n",
              "      <td>0.036436</td>\n",
              "      <td>0.000594</td>\n",
              "      <td>5</td>\n",
              "      <td>0.000204</td>\n",
              "      <td>0.000780</td>\n",
              "      <td>0.004346</td>\n",
              "      <td>11.6910</td>\n",
              "      <td>34.8547</td>\n",
              "      <td>7.9615</td>\n",
              "      <td>15</td>\n",
              "      <td>0.000613</td>\n",
              "      <td>6</td>\n",
              "      <td>0.000000</td>\n",
              "      <td>0.000631</td>\n",
              "    </tr>\n",
              "    <tr>\n",
              "      <th>3394</th>\n",
              "      <td>10095</td>\n",
              "      <td>8</td>\n",
              "      <td>?</td>\n",
              "      <td>?</td>\n",
              "      <td>?</td>\n",
              "      <td>348.3576</td>\n",
              "      <td>0.029855</td>\n",
              "      <td>0.000811</td>\n",
              "      <td>4</td>\n",
              "      <td>0.000224</td>\n",
              "      <td>0.001315</td>\n",
              "      <td>0.005566</td>\n",
              "      <td>20.0537</td>\n",
              "      <td>33.5142</td>\n",
              "      <td>6.3719</td>\n",
              "      <td>27</td>\n",
              "      <td>0.001566</td>\n",
              "      <td>7</td>\n",
              "      <td>0.000457</td>\n",
              "      <td>0.000895</td>\n",
              "    </tr>\n",
              "  </tbody>\n",
              "</table>\n",
              "</div>"
            ],
            "text/plain": [
              "      GameID  LeagueIndex  ... ComplexUnitsMade ComplexAbilitiesUsed\n",
              "3390   10089            8  ...         0.000000             0.000000\n",
              "3391   10090            8  ...         0.000000             0.000000\n",
              "3392   10092            8  ...         0.000000             0.000000\n",
              "3393   10094            8  ...         0.000000             0.000631\n",
              "3394   10095            8  ...         0.000457             0.000895\n",
              "\n",
              "[5 rows x 20 columns]"
            ]
          },
          "metadata": {},
          "execution_count": 11
        }
      ]
    },
    {
      "cell_type": "markdown",
      "metadata": {
        "id": "PmdFvg_UgAMv"
      },
      "source": [
        "El simbolo \"?\" se encuentra en la edad, horas por semana y horas totales en la liga número 8, está liga tiene muy pocos datos en comparación con las demás, y es dificil rellenar estos datos faltantes, por lo que se decide eliminarla."
      ]
    },
    {
      "cell_type": "code",
      "metadata": {
        "colab": {
          "base_uri": "https://localhost:8080/",
          "height": 0
        },
        "id": "MktcbN2rIV5n",
        "outputId": "60008f3a-422b-4103-d620-62d01847069d"
      },
      "source": [
        "df = df[(df != '?')]\n",
        "df = df.apply(pd.to_numeric)\n",
        "df.tail()"
      ],
      "execution_count": 12,
      "outputs": [
        {
          "output_type": "execute_result",
          "data": {
            "text/html": [
              "<div>\n",
              "<style scoped>\n",
              "    .dataframe tbody tr th:only-of-type {\n",
              "        vertical-align: middle;\n",
              "    }\n",
              "\n",
              "    .dataframe tbody tr th {\n",
              "        vertical-align: top;\n",
              "    }\n",
              "\n",
              "    .dataframe thead th {\n",
              "        text-align: right;\n",
              "    }\n",
              "</style>\n",
              "<table border=\"1\" class=\"dataframe\">\n",
              "  <thead>\n",
              "    <tr style=\"text-align: right;\">\n",
              "      <th></th>\n",
              "      <th>GameID</th>\n",
              "      <th>LeagueIndex</th>\n",
              "      <th>Age</th>\n",
              "      <th>HoursPerWeek</th>\n",
              "      <th>TotalHours</th>\n",
              "      <th>APM</th>\n",
              "      <th>SelectByHotkeys</th>\n",
              "      <th>AssignToHotkeys</th>\n",
              "      <th>UniqueHotkeys</th>\n",
              "      <th>MinimapAttacks</th>\n",
              "      <th>MinimapRightClicks</th>\n",
              "      <th>NumberOfPACs</th>\n",
              "      <th>GapBetweenPACs</th>\n",
              "      <th>ActionLatency</th>\n",
              "      <th>ActionsInPAC</th>\n",
              "      <th>TotalMapExplored</th>\n",
              "      <th>WorkersMade</th>\n",
              "      <th>UniqueUnitsMade</th>\n",
              "      <th>ComplexUnitsMade</th>\n",
              "      <th>ComplexAbilitiesUsed</th>\n",
              "    </tr>\n",
              "  </thead>\n",
              "  <tbody>\n",
              "    <tr>\n",
              "      <th>3390</th>\n",
              "      <td>10089</td>\n",
              "      <td>8</td>\n",
              "      <td>NaN</td>\n",
              "      <td>NaN</td>\n",
              "      <td>NaN</td>\n",
              "      <td>259.6296</td>\n",
              "      <td>0.020425</td>\n",
              "      <td>0.000743</td>\n",
              "      <td>9</td>\n",
              "      <td>0.000621</td>\n",
              "      <td>0.000146</td>\n",
              "      <td>0.004555</td>\n",
              "      <td>18.6059</td>\n",
              "      <td>42.8342</td>\n",
              "      <td>6.2754</td>\n",
              "      <td>46</td>\n",
              "      <td>0.000877</td>\n",
              "      <td>5</td>\n",
              "      <td>0.000000</td>\n",
              "      <td>0.000000</td>\n",
              "    </tr>\n",
              "    <tr>\n",
              "      <th>3391</th>\n",
              "      <td>10090</td>\n",
              "      <td>8</td>\n",
              "      <td>NaN</td>\n",
              "      <td>NaN</td>\n",
              "      <td>NaN</td>\n",
              "      <td>314.6700</td>\n",
              "      <td>0.028043</td>\n",
              "      <td>0.001157</td>\n",
              "      <td>10</td>\n",
              "      <td>0.000246</td>\n",
              "      <td>0.001083</td>\n",
              "      <td>0.004259</td>\n",
              "      <td>14.3023</td>\n",
              "      <td>36.1156</td>\n",
              "      <td>7.1965</td>\n",
              "      <td>16</td>\n",
              "      <td>0.000788</td>\n",
              "      <td>4</td>\n",
              "      <td>0.000000</td>\n",
              "      <td>0.000000</td>\n",
              "    </tr>\n",
              "    <tr>\n",
              "      <th>3392</th>\n",
              "      <td>10092</td>\n",
              "      <td>8</td>\n",
              "      <td>NaN</td>\n",
              "      <td>NaN</td>\n",
              "      <td>NaN</td>\n",
              "      <td>299.4282</td>\n",
              "      <td>0.028341</td>\n",
              "      <td>0.000860</td>\n",
              "      <td>7</td>\n",
              "      <td>0.000338</td>\n",
              "      <td>0.000169</td>\n",
              "      <td>0.004439</td>\n",
              "      <td>12.4028</td>\n",
              "      <td>39.5156</td>\n",
              "      <td>6.3979</td>\n",
              "      <td>19</td>\n",
              "      <td>0.001260</td>\n",
              "      <td>4</td>\n",
              "      <td>0.000000</td>\n",
              "      <td>0.000000</td>\n",
              "    </tr>\n",
              "    <tr>\n",
              "      <th>3393</th>\n",
              "      <td>10094</td>\n",
              "      <td>8</td>\n",
              "      <td>NaN</td>\n",
              "      <td>NaN</td>\n",
              "      <td>NaN</td>\n",
              "      <td>375.8664</td>\n",
              "      <td>0.036436</td>\n",
              "      <td>0.000594</td>\n",
              "      <td>5</td>\n",
              "      <td>0.000204</td>\n",
              "      <td>0.000780</td>\n",
              "      <td>0.004346</td>\n",
              "      <td>11.6910</td>\n",
              "      <td>34.8547</td>\n",
              "      <td>7.9615</td>\n",
              "      <td>15</td>\n",
              "      <td>0.000613</td>\n",
              "      <td>6</td>\n",
              "      <td>0.000000</td>\n",
              "      <td>0.000631</td>\n",
              "    </tr>\n",
              "    <tr>\n",
              "      <th>3394</th>\n",
              "      <td>10095</td>\n",
              "      <td>8</td>\n",
              "      <td>NaN</td>\n",
              "      <td>NaN</td>\n",
              "      <td>NaN</td>\n",
              "      <td>348.3576</td>\n",
              "      <td>0.029855</td>\n",
              "      <td>0.000811</td>\n",
              "      <td>4</td>\n",
              "      <td>0.000224</td>\n",
              "      <td>0.001315</td>\n",
              "      <td>0.005566</td>\n",
              "      <td>20.0537</td>\n",
              "      <td>33.5142</td>\n",
              "      <td>6.3719</td>\n",
              "      <td>27</td>\n",
              "      <td>0.001566</td>\n",
              "      <td>7</td>\n",
              "      <td>0.000457</td>\n",
              "      <td>0.000895</td>\n",
              "    </tr>\n",
              "  </tbody>\n",
              "</table>\n",
              "</div>"
            ],
            "text/plain": [
              "      GameID  LeagueIndex  ...  ComplexUnitsMade  ComplexAbilitiesUsed\n",
              "3390   10089            8  ...          0.000000              0.000000\n",
              "3391   10090            8  ...          0.000000              0.000000\n",
              "3392   10092            8  ...          0.000000              0.000000\n",
              "3393   10094            8  ...          0.000000              0.000631\n",
              "3394   10095            8  ...          0.000457              0.000895\n",
              "\n",
              "[5 rows x 20 columns]"
            ]
          },
          "metadata": {},
          "execution_count": 12
        }
      ]
    },
    {
      "cell_type": "markdown",
      "metadata": {
        "id": "Scrd0dwwh6BK"
      },
      "source": [
        "Al revisar nuevamente la información de los datos se puede ver que el tipo de dato coincide con la documentación"
      ]
    },
    {
      "cell_type": "code",
      "metadata": {
        "colab": {
          "base_uri": "https://localhost:8080/"
        },
        "id": "LB4xiVCJmz4O",
        "outputId": "fb75f377-c57d-4fc8-a67e-d71e14039850"
      },
      "source": [
        "df.info()"
      ],
      "execution_count": 13,
      "outputs": [
        {
          "output_type": "stream",
          "name": "stdout",
          "text": [
            "<class 'pandas.core.frame.DataFrame'>\n",
            "RangeIndex: 3395 entries, 0 to 3394\n",
            "Data columns (total 20 columns):\n",
            " #   Column                Non-Null Count  Dtype  \n",
            "---  ------                --------------  -----  \n",
            " 0   GameID                3395 non-null   int64  \n",
            " 1   LeagueIndex           3395 non-null   int64  \n",
            " 2   Age                   3340 non-null   float64\n",
            " 3   HoursPerWeek          3339 non-null   float64\n",
            " 4   TotalHours            3338 non-null   float64\n",
            " 5   APM                   3395 non-null   float64\n",
            " 6   SelectByHotkeys       3395 non-null   float64\n",
            " 7   AssignToHotkeys       3395 non-null   float64\n",
            " 8   UniqueHotkeys         3395 non-null   int64  \n",
            " 9   MinimapAttacks        3395 non-null   float64\n",
            " 10  MinimapRightClicks    3395 non-null   float64\n",
            " 11  NumberOfPACs          3395 non-null   float64\n",
            " 12  GapBetweenPACs        3395 non-null   float64\n",
            " 13  ActionLatency         3395 non-null   float64\n",
            " 14  ActionsInPAC          3395 non-null   float64\n",
            " 15  TotalMapExplored      3395 non-null   int64  \n",
            " 16  WorkersMade           3395 non-null   float64\n",
            " 17  UniqueUnitsMade       3395 non-null   int64  \n",
            " 18  ComplexUnitsMade      3395 non-null   float64\n",
            " 19  ComplexAbilitiesUsed  3395 non-null   float64\n",
            "dtypes: float64(15), int64(5)\n",
            "memory usage: 530.6 KB\n"
          ]
        }
      ]
    },
    {
      "cell_type": "markdown",
      "metadata": {
        "id": "yHOwtloMeBzF"
      },
      "source": [
        "algunos valores se convirtieron en Nan"
      ]
    },
    {
      "cell_type": "code",
      "metadata": {
        "colab": {
          "base_uri": "https://localhost:8080/"
        },
        "id": "7zi1fe39_aiF",
        "outputId": "3c34e53b-f6d5-41fd-b93e-ce2c6c222d61"
      },
      "source": [
        "df.isna().sum()"
      ],
      "execution_count": 14,
      "outputs": [
        {
          "output_type": "execute_result",
          "data": {
            "text/plain": [
              "GameID                   0\n",
              "LeagueIndex              0\n",
              "Age                     55\n",
              "HoursPerWeek            56\n",
              "TotalHours              57\n",
              "APM                      0\n",
              "SelectByHotkeys          0\n",
              "AssignToHotkeys          0\n",
              "UniqueHotkeys            0\n",
              "MinimapAttacks           0\n",
              "MinimapRightClicks       0\n",
              "NumberOfPACs             0\n",
              "GapBetweenPACs           0\n",
              "ActionLatency            0\n",
              "ActionsInPAC             0\n",
              "TotalMapExplored         0\n",
              "WorkersMade              0\n",
              "UniqueUnitsMade          0\n",
              "ComplexUnitsMade         0\n",
              "ComplexAbilitiesUsed     0\n",
              "dtype: int64"
            ]
          },
          "metadata": {},
          "execution_count": 14
        }
      ]
    },
    {
      "cell_type": "code",
      "metadata": {
        "colab": {
          "base_uri": "https://localhost:8080/",
          "height": 0
        },
        "id": "IHO5pu3__fr7",
        "outputId": "72bdf2e6-ef3d-4c46-805b-5254615bf46e"
      },
      "source": [
        "ax = plt.figure(figsize=(25,10)).add_subplot(111)\n",
        "ax.imshow(df.isna().values.T)\n",
        "ax.set_aspect(90)\n",
        "plt.yticks(range(df.shape[1]), df.columns);"
      ],
      "execution_count": 15,
      "outputs": [
        {
          "output_type": "display_data",
          "data": {
            "image/png": "[encoded data removed]",
            "text/plain": [
              "<Figure size 1800x720 with 1 Axes>"
            ]
          },
          "metadata": {
            "needs_background": "light"
          }
        }
      ]
    },
    {
      "cell_type": "markdown",
      "metadata": {
        "id": "QIgR7aKIeTIr"
      },
      "source": [
        "Estos valores se eliminan usando dropna()"
      ]
    },
    {
      "cell_type": "code",
      "metadata": {
        "colab": {
          "base_uri": "https://localhost:8080/"
        },
        "id": "SCdeSQPl_q2C",
        "outputId": "9f85451d-39cb-416f-df56-f6ae26cba554"
      },
      "source": [
        "df = df.dropna()\n",
        "df.isna().sum()"
      ],
      "execution_count": 16,
      "outputs": [
        {
          "output_type": "execute_result",
          "data": {
            "text/plain": [
              "GameID                  0\n",
              "LeagueIndex             0\n",
              "Age                     0\n",
              "HoursPerWeek            0\n",
              "TotalHours              0\n",
              "APM                     0\n",
              "SelectByHotkeys         0\n",
              "AssignToHotkeys         0\n",
              "UniqueHotkeys           0\n",
              "MinimapAttacks          0\n",
              "MinimapRightClicks      0\n",
              "NumberOfPACs            0\n",
              "GapBetweenPACs          0\n",
              "ActionLatency           0\n",
              "ActionsInPAC            0\n",
              "TotalMapExplored        0\n",
              "WorkersMade             0\n",
              "UniqueUnitsMade         0\n",
              "ComplexUnitsMade        0\n",
              "ComplexAbilitiesUsed    0\n",
              "dtype: int64"
            ]
          },
          "metadata": {},
          "execution_count": 16
        }
      ]
    },
    {
      "cell_type": "markdown",
      "metadata": {
        "id": "SvbBSEgliR7m"
      },
      "source": [
        "##Se dividen los datos en X, y\n",
        "\n",
        "---\n",
        "\n"
      ]
    },
    {
      "cell_type": "code",
      "metadata": {
        "colab": {
          "base_uri": "https://localhost:8080/"
        },
        "id": "0SCgR1Nf3v4w",
        "outputId": "b3d70d4f-1430-4ca6-b76a-5098d571b9a3"
      },
      "source": [
        "df.columns"
      ],
      "execution_count": 17,
      "outputs": [
        {
          "output_type": "execute_result",
          "data": {
            "text/plain": [
              "Index(['GameID', 'LeagueIndex', 'Age', 'HoursPerWeek', 'TotalHours', 'APM',\n",
              "       'SelectByHotkeys', 'AssignToHotkeys', 'UniqueHotkeys', 'MinimapAttacks',\n",
              "       'MinimapRightClicks', 'NumberOfPACs', 'GapBetweenPACs', 'ActionLatency',\n",
              "       'ActionsInPAC', 'TotalMapExplored', 'WorkersMade', 'UniqueUnitsMade',\n",
              "       'ComplexUnitsMade', 'ComplexAbilitiesUsed'],\n",
              "      dtype='object')"
            ]
          },
          "metadata": {},
          "execution_count": 17
        }
      ]
    },
    {
      "cell_type": "markdown",
      "metadata": {
        "id": "S42TfFuLijtT"
      },
      "source": [
        "Para X se toman todas las columnas excepto LeagueIndex, que corresponde a las etiquetas que se quieren predecir y GameID que es un identificador unico para cada juego"
      ]
    },
    {
      "cell_type": "code",
      "metadata": {
        "colab": {
          "base_uri": "https://localhost:8080/"
        },
        "id": "wApkkLMDmz2K",
        "outputId": "bdfce789-40db-49f0-8d7c-70f3162dc673"
      },
      "source": [
        "X = df.drop(['LeagueIndex'], axis=1).copy()\n",
        "X = X.drop(['GameID'], axis=1).copy()\n",
        "X = X.dropna()\n",
        "X = X.values\n",
        "X.shape"
      ],
      "execution_count": 18,
      "outputs": [
        {
          "output_type": "execute_result",
          "data": {
            "text/plain": [
              "(3338, 18)"
            ]
          },
          "metadata": {},
          "execution_count": 18
        }
      ]
    },
    {
      "cell_type": "markdown",
      "metadata": {
        "id": "_wF3i5jLj-gU"
      },
      "source": [
        "Para las etiquetas y, se toman los valores de la columna LeagueIndex"
      ]
    },
    {
      "cell_type": "code",
      "metadata": {
        "colab": {
          "base_uri": "https://localhost:8080/"
        },
        "id": "-pS9cZGV33bI",
        "outputId": "6f23c500-ca5f-4f7f-fe77-916eaa77c4f1"
      },
      "source": [
        "y = df.LeagueIndex.values\n",
        "y.shape"
      ],
      "execution_count": 19,
      "outputs": [
        {
          "output_type": "execute_result",
          "data": {
            "text/plain": [
              "(3338,)"
            ]
          },
          "metadata": {},
          "execution_count": 19
        }
      ]
    },
    {
      "cell_type": "code",
      "metadata": {
        "colab": {
          "base_uri": "https://localhost:8080/"
        },
        "id": "u56rC8LN48LP",
        "outputId": "94f4c8ac-299b-4010-b2fe-3d196fe7cfd5"
      },
      "source": [
        "y"
      ],
      "execution_count": 20,
      "outputs": [
        {
          "output_type": "execute_result",
          "data": {
            "text/plain": [
              "array([5, 5, 4, ..., 4, 3, 4])"
            ]
          },
          "metadata": {},
          "execution_count": 20
        }
      ]
    },
    {
      "cell_type": "markdown",
      "metadata": {
        "id": "jTWy16zCk5xu"
      },
      "source": [
        "#Entrenamiento y evaluación de los modelos"
      ]
    },
    {
      "cell_type": "markdown",
      "metadata": {
        "id": "35NDTj6C6D-t"
      },
      "source": [
        "##Modelos"
      ]
    },
    {
      "cell_type": "markdown",
      "metadata": {
        "id": "gqPS8Z0FwK_6"
      },
      "source": [
        "Los datos se dividen usando un 80% para (entrenamiento y test) y un 20% para validación"
      ]
    },
    {
      "cell_type": "code",
      "metadata": {
        "id": "ml_dl9s_G2lq"
      },
      "source": [
        "X, X_val, y, y_val = train_test_split(X, y, test_size=0.2, stratify=y)"
      ],
      "execution_count": 21,
      "outputs": []
    },
    {
      "cell_type": "markdown",
      "metadata": {
        "id": "vU7zAWps20t-"
      },
      "source": [
        "###Discriminante cuadratico"
      ]
    },
    {
      "cell_type": "code",
      "metadata": {
        "id": "j07AsweAXSR9"
      },
      "source": [
        "def DiscriminanteCuadratico(X,Y,regParams):\n",
        "    \n",
        "    skf = StratifiedKFold()\n",
        "    resultados = pd.DataFrame()\n",
        "    idx = 0\n",
        "\n",
        "    EficienciaTrain = []\n",
        "    EficienciaVal = []\n",
        "    MatthewsTrain = []\n",
        "    MatthewsTest =  []\n",
        "\n",
        "    for reg_param in regParams:\n",
        "      for train, test in skf.split(X, Y):\n",
        "          Xtrain = X[train,:]\n",
        "          Ytrain = Y[train]\n",
        "          Xtest = X[test,:]\n",
        "          Ytest = Y[test]\n",
        "\n",
        "          #Haga el llamado a la función para crear y entrenar el modelo usando los datos de entrenamiento\n",
        "          modelo= QuadraticDiscriminantAnalysis(reg_param=reg_param)\n",
        "          modelo =modelo.fit(Xtrain,Ytrain)\n",
        "          #predecir muestras de entrenamiento\n",
        "          Ytrain_pred =  modelo.predict(Xtrain)\n",
        "          #predecir muestras de pruebas\n",
        "          Yest = modelo.predict(Xtest)\n",
        "          #Evaluamos las predicciones del modelo con los datos de test\n",
        "          \n",
        "          EficienciaTrain.append(balanced_accuracy_score(y_true = Ytrain, y_pred = Ytrain_pred))\n",
        "          EficienciaVal.append(balanced_accuracy_score( y_true= Ytest, y_pred=Yest))\n",
        "          MatthewsTrain.append(matthews_corrcoef(y_true = Ytrain, y_pred = Ytrain_pred))\n",
        "          MatthewsTest.append(matthews_corrcoef( y_true= Ytest, y_pred=Yest))\n",
        "\n",
        "      resultados.loc[idx,'Reg param'] = reg_param\n",
        "      resultados.loc[idx,'Balanced Accuracy train'] = np.mean(EficienciaTrain)\n",
        "      resultados.loc[idx,'Balanced Accuracy test'] =np.mean(EficienciaVal)\n",
        "      resultados.loc[idx,'Std  train'] = np.std(EficienciaTrain)\n",
        "      resultados.loc[idx,'Std test'] = np.std(EficienciaVal)\n",
        "      resultados.loc[idx,'Matthews corrcoef train'] = np.mean(MatthewsTrain)\n",
        "      resultados.loc[idx,'Matthews corrcoef test'] = np.mean(MatthewsTest)\n",
        "      resultados.loc[idx,'resta de accuracy'] = np.abs(np.mean(EficienciaTrain)-np.mean(EficienciaVal))\n",
        "\n",
        "      idx+=1\n",
        "\n",
        "    return (resultados)"
      ],
      "execution_count": 53,
      "outputs": []
    },
    {
      "cell_type": "markdown",
      "metadata": {
        "id": "xL8DXJRL8rlT"
      },
      "source": [
        "###Ventana de Parzen (Método kernel)"
      ]
    },
    {
      "cell_type": "code",
      "metadata": {
        "id": "8uMdHXFUV-hh"
      },
      "source": [
        "def VentanaParzen (X, Y, hs):\n",
        "    \n",
        "    skf = StratifiedKFold()\n",
        "    resultados = pd.DataFrame()\n",
        "    idx = 0\n",
        "\n",
        "    EficienciaTrain = []\n",
        "    EficienciaVal = []\n",
        "    MatthewsTrain = []\n",
        "    MatthewsTest =  []\n",
        "\n",
        "    for h in hs:\n",
        "      for train, test in skf.split(X, Y):\n",
        "          Xtrain = X[train,:]\n",
        "          Ytrain = Y[train]\n",
        "          Xtest = X[test,:]\n",
        "          Ytest = Y[test]\n",
        "\n",
        "          nsamples, nx, ny = Xtrain.shape\n",
        "          Xtrain = Xtrain.reshape((nsamples,nx*ny))\n",
        "          #Haga el llamado a la función para crear y entrenar el modelo usando los datos de entrenamiento\n",
        "          modelo = KernelDensity(bandwidth=h)\n",
        "          modelo =modelo.fit(Xtrain[:, None])\n",
        "          #predecir muestras de entrenamiento\n",
        "          Ytrain_pred =  modelo.score_samples(Xtrain[:, None])\n",
        "          #predecir muestras de pruebas\n",
        "          #Evaluamos las predicciones del modelo con los datos de test\n",
        "          \n",
        "          EficienciaTrain.append(balanced_accuracy_score(y_true = Ytrain, y_pred = Ytrain_pred))\n",
        "          MatthewsTrain.append(matthews_corrcoef(y_true = Ytrain, y_pred = Ytrain_pred))\n",
        "\n",
        "      resultados.loc[idx,'Ancho de ventana '] = h \n",
        "      resultados.loc[idx,'Balanced Accuracy train'] = np.mean(EficienciaTrain)\n",
        "      resultados.loc[idx,'Std  train'] = np.std(EficienciaTrain)\n",
        "      resultados.loc[idx,'Matthews corrcoef train'] = np.mean(MatthewsTrain)\n",
        "\n",
        "      idx+=1\n",
        "\n",
        "    return (resultados)"
      ],
      "execution_count": 87,
      "outputs": []
    },
    {
      "cell_type": "markdown",
      "metadata": {
        "id": "VCE-BipE83ZX"
      },
      "source": [
        "###Gradient Boosting Tree"
      ]
    },
    {
      "cell_type": "code",
      "metadata": {
        "id": "tgZBE9rwyExj"
      },
      "source": [
        "def GradientBoostingTree(num_trees,maxdepth, X, Y):\n",
        "    \n",
        "    skf = StratifiedKFold()\n",
        "    resultados = pd.DataFrame()\n",
        "\n",
        "    \n",
        "    idx = 0\n",
        "    for trees in num_trees:\n",
        "        for depth in maxdepth:\n",
        "          AccuTrain = []\n",
        "          AccuVal = []\n",
        "          tprs = []\n",
        "          MatthewsTrain = []\n",
        "          MatthewsTest =  []\n",
        "          \n",
        "          mean_fpr = np.linspace(0, 1, 100)\n",
        "\n",
        "          i = 1\n",
        "          for train, test in skf.split(X, Y):\n",
        "              Xtrain = X[train,:]\n",
        "              Ytrain = Y[train]\n",
        "              Xtest = X[test,:]\n",
        "              Ytest = Y[test]\n",
        "\n",
        "              modelo= GradientBoostingClassifier(n_estimators= trees, max_depth=depth)\n",
        "              modelo =modelo.fit(Xtrain,Ytrain)\n",
        "              \n",
        "              Ytrain_pred =  modelo.predict(Xtrain)\n",
        "              \n",
        "              Yest = modelo.predict(Xtest)\n",
        "                        \n",
        "        \n",
        "              AccuTrain.append(balanced_accuracy_score(y_true=Ytrain,y_pred=Ytrain_pred))\n",
        "              AccuVal.append(balanced_accuracy_score(y_true=Ytest,y_pred=Yest))\n",
        "              MatthewsTrain.append(matthews_corrcoef(y_true = Ytrain, y_pred = Ytrain_pred))\n",
        "              MatthewsTest.append(matthews_corrcoef( y_true= Ytest, y_pred=Yest))\n",
        "\n",
        "          resultados.loc[idx,'# Trees'] = trees\n",
        "          resultados.loc[idx,'# Max_depth'] = depth\n",
        "          resultados.loc[idx,'Accuracy Train'] = np.mean(AccuTrain)\n",
        "          resultados.loc[idx,'Accuracy Test'] =np.mean(AccuVal)\n",
        "          resultados.loc[idx,'Std Train'] = np.std(AccuTrain)\n",
        "          resultados.loc[idx,'Std Test'] = np.std(AccuVal)      \n",
        "          resultados.loc[idx,'Matthews corrcoef train'] = np.mean(MatthewsTrain)\n",
        "          resultados.loc[idx,'Matthews corrcoef test'] = np.mean(MatthewsTest)\n",
        "          resultados.loc[idx,'resta de accuracy'] = np.abs(np.mean(AccuTrain)-np.mean(AccuVal))\n",
        "\n",
        "          idx+=1\n",
        "    return (resultados)"
      ],
      "execution_count": 24,
      "outputs": []
    },
    {
      "cell_type": "markdown",
      "metadata": {
        "id": "DbxSChIY855M"
      },
      "source": [
        "###Redes Neuronales Artificiales"
      ]
    },
    {
      "cell_type": "code",
      "metadata": {
        "id": "meumNGg8yEuZ"
      },
      "source": [
        "def RedesNeuronalesArtificiales(X,Y, num_hidden_layers, num_neurons):\n",
        "\n",
        "    \n",
        "    Folds=4\n",
        "    skf = StratifiedKFold(n_splits=Folds)\n",
        "    resultados = pd.DataFrame()\n",
        "    idx = 0\n",
        "    for hidden_layers in num_hidden_layers:\n",
        "        for neurons in num_neurons:\n",
        "            ErrorTest = np.zeros(Folds)\n",
        "            ErrorTrain = np.zeros(Folds)\n",
        "            tprs = []\n",
        "            MatthewsTrain = []\n",
        "            MatthewsTest =  []\n",
        "            for j, (train, test) in enumerate(skf.split(X, Y)):\n",
        "                \n",
        "                Xtrain= X[train,:]\n",
        "                Ytrain = Y[train]\n",
        "                Xtest = X[test, :]\n",
        "                Ytest = Y[test]\n",
        "\n",
        "                scaler = StandardScaler().fit(X= Xtrain)       \n",
        "                Xtrain = scaler.transform(Xtrain)\n",
        "                Xtest = scaler.transform(Xtest)\n",
        "\n",
        "\n",
        "                hidden_layer_sizes = tuple(hidden_layers*[neurons])\n",
        "\n",
        "                mlp = MLPClassifier(activation='logistic',hidden_layer_sizes= hidden_layer_sizes, max_iter=1000)\n",
        " \n",
        "                mlp =mlp.fit(X=Xtrain,y=Ytrain)\n",
        "              \n",
        "\n",
        "                YestTrain = mlp.predict(Xtrain)\n",
        "                YestTest = mlp.predict(Xtest)\n",
        "\n",
        "            \n",
        "\n",
        "\n",
        "                ErrorTrain[j] =balanced_accuracy_score(y_true= Ytrain, y_pred= YestTrain)\n",
        "                ErrorTest[j] =balanced_accuracy_score(y_true= Ytest, y_pred= YestTest)\n",
        "                MatthewsTrain.append(matthews_corrcoef(y_true = Ytrain, y_pred = YestTrain))\n",
        "                MatthewsTest.append(matthews_corrcoef( y_true= Ytest, y_pred=YestTest))\n",
        "   \n",
        "            resultados.loc[idx,'# Hidden layers'] = hidden_layers\n",
        "            resultados.loc[idx,'# Neurons'] = neurons \n",
        "            resultados.loc[idx,'Accuracy Train'] = np.mean(ErrorTrain)\n",
        "            resultados.loc[idx,'Accuracy Test'] = np.mean(ErrorTest)\n",
        "            resultados.loc[idx,'Std Train'] = np.std(ErrorTrain)\n",
        "            resultados.loc[idx,'Std Test'] = np.std(ErrorTest)\n",
        "            resultados.loc[idx,'Matthews corrcoef train'] = np.mean(MatthewsTrain)\n",
        "            resultados.loc[idx,'Matthews corrcoef test'] = np.mean(MatthewsTest)\n",
        "            resultados.loc[idx,'resta de accuracy'] = np.abs(np.mean(ErrorTrain)-np.mean(ErrorTest))\n",
        "\n",
        "            idx+=1\n",
        "\n",
        "   \n",
        "    return (resultados)"
      ],
      "execution_count": 25,
      "outputs": []
    },
    {
      "cell_type": "markdown",
      "metadata": {
        "id": "Ak-UZVCl89b_"
      },
      "source": [
        "###Maquina de soporte vectorial"
      ]
    },
    {
      "cell_type": "code",
      "metadata": {
        "id": "P15DYd11yEr3"
      },
      "source": [
        "def MaquinaSoporteVectorial(x, y, kernels, gammas,params_reg):\n",
        "\n",
        "    idx = 0\n",
        "    kf = StratifiedKFold(n_splits=4)\n",
        "    # crear una lista con la combinaciones de los elementos de cada list\n",
        "    kernels_gammas_regs = list(product(kernels, gammas, params_reg))\n",
        "    resultados = pd.DataFrame()\n",
        "\n",
        "    for params in kernels_gammas_regs:\n",
        "        kernel, gamma, param_reg = params\n",
        "        \n",
        "        errores_train = []\n",
        "        errores_test = []\n",
        "        pct_support_vectors = []\n",
        "        MatthewsTrain = []\n",
        "        MatthewsTest =  []\n",
        "\n",
        "        for train_index, test_index in kf.split(x,y):\n",
        "            X_train, X_test = x[train_index], x[test_index]\n",
        "            y_train, y_test = y[train_index], y[test_index]  \n",
        "            # normalizar los datos\n",
        "            scaler = StandardScaler()\n",
        "            X_train = scaler.fit_transform(X_train)\n",
        "            X_test = scaler.transform(X_test)\n",
        "\n",
        "\n",
        "                                    \n",
        "            svm = SVC( kernel= kernel , gamma= gamma , C= param_reg)\n",
        "            # Entrenar el modelo\n",
        "            svm=svm.fit(X=X_train, y=y_train)\n",
        "            # calculo de errores\n",
        "            y_train_pred = svm.predict(X=X_train)\n",
        "            y_test_pred = svm.predict(X=X_test)\n",
        "            # error y pct de vectores de soporte\n",
        "            errores_train.append(balanced_accuracy_score(y_true = y_train, y_pred = y_train_pred))\n",
        "            errores_test.append(balanced_accuracy_score(y_true = y_test, y_pred = y_test_pred))\n",
        "            MatthewsTrain.append(matthews_corrcoef(y_true = y_train, y_pred = y_train_pred))\n",
        "            MatthewsTest.append(matthews_corrcoef( y_true= y_test, y_pred=y_test_pred))\n",
        "\n",
        "            n_train = X_train.shape[0]\n",
        "            pct_vs = (svm.support_vectors_.shape[0]/n_train)\n",
        "            pct_support_vectors.append(pct_vs)\n",
        "  \n",
        "\n",
        "        resultados.loc[idx,'kernel'] = kernel\n",
        "        resultados.loc[idx,'gamma'] = gamma\n",
        "        resultados.loc[idx,'param_reg'] = param_reg\n",
        "        resultados.loc[idx,'Accuracy Train'] = np.mean(errores_train)\n",
        "        resultados.loc[idx,'Accuracy Test'] = np.mean(errores_test)\n",
        "        resultados.loc[idx,'Std Train'] = np.std(errores_train)\n",
        "        resultados.loc[idx,'Std Test'] = np.std(errores_test)\n",
        "        resultados.loc[idx,'% de vectores de soporte'] = np.mean(pct_support_vectors)*100\n",
        "        resultados.loc[idx,'Matthews corrcoef train'] = np.mean(MatthewsTrain)\n",
        "        resultados.loc[idx,'Matthews corrcoef test'] = np.mean(MatthewsTest)\n",
        "        resultados.loc[idx,'resta de accuracy'] = np.abs(np.mean(errores_train)-np.mean(errores_test))\n",
        "\n",
        "        idx+=1\n",
        "\n",
        "   \n",
        "    return (resultados)"
      ],
      "execution_count": 26,
      "outputs": []
    },
    {
      "cell_type": "markdown",
      "metadata": {
        "id": "JRilga3VyZCf"
      },
      "source": [
        "##Simulación"
      ]
    },
    {
      "cell_type": "markdown",
      "metadata": {
        "id": "Ohbtz8AwSBWI"
      },
      "source": [
        "###busqueda de hiperparametros"
      ]
    },
    {
      "cell_type": "markdown",
      "metadata": {
        "id": "Ur9bMLP99Eox"
      },
      "source": [
        "Discriminante cuadratico"
      ]
    },
    {
      "cell_type": "code",
      "metadata": {
        "colab": {
          "base_uri": "https://localhost:8080/",
          "height": 359
        },
        "id": "MbtL83h7yRbx",
        "outputId": "b5aa4d37-922a-4fa7-dc2c-b33c60a88b1c"
      },
      "source": [
        "resultadosDC = DiscriminanteCuadratico(X,y,[0, 0.001, 0.004, 0.1, 0.2, 0.3, 0.5, 0.8, 0.9, 1])\n",
        "resultadosDC"
      ],
      "execution_count": 54,
      "outputs": [
        {
          "output_type": "execute_result",
          "data": {
            "text/html": [
              "<div>\n",
              "<style scoped>\n",
              "    .dataframe tbody tr th:only-of-type {\n",
              "        vertical-align: middle;\n",
              "    }\n",
              "\n",
              "    .dataframe tbody tr th {\n",
              "        vertical-align: top;\n",
              "    }\n",
              "\n",
              "    .dataframe thead th {\n",
              "        text-align: right;\n",
              "    }\n",
              "</style>\n",
              "<table border=\"1\" class=\"dataframe\">\n",
              "  <thead>\n",
              "    <tr style=\"text-align: right;\">\n",
              "      <th></th>\n",
              "      <th>Reg param</th>\n",
              "      <th>Balanced Accuracy train</th>\n",
              "      <th>Balanced Accuracy test</th>\n",
              "      <th>Std  train</th>\n",
              "      <th>Std test</th>\n",
              "      <th>Matthews corrcoef train</th>\n",
              "      <th>Matthews corrcoef test</th>\n",
              "      <th>resta de accuracy</th>\n",
              "    </tr>\n",
              "  </thead>\n",
              "  <tbody>\n",
              "    <tr>\n",
              "      <th>0</th>\n",
              "      <td>0.000</td>\n",
              "      <td>0.495687</td>\n",
              "      <td>0.315663</td>\n",
              "      <td>0.006919</td>\n",
              "      <td>0.023047</td>\n",
              "      <td>0.262020</td>\n",
              "      <td>0.172880</td>\n",
              "      <td>0.180023</td>\n",
              "    </tr>\n",
              "    <tr>\n",
              "      <th>1</th>\n",
              "      <td>0.001</td>\n",
              "      <td>0.459034</td>\n",
              "      <td>0.323722</td>\n",
              "      <td>0.038619</td>\n",
              "      <td>0.019755</td>\n",
              "      <td>0.261669</td>\n",
              "      <td>0.188835</td>\n",
              "      <td>0.135312</td>\n",
              "    </tr>\n",
              "    <tr>\n",
              "      <th>2</th>\n",
              "      <td>0.004</td>\n",
              "      <td>0.446761</td>\n",
              "      <td>0.326227</td>\n",
              "      <td>0.037104</td>\n",
              "      <td>0.017704</td>\n",
              "      <td>0.261431</td>\n",
              "      <td>0.193814</td>\n",
              "      <td>0.120534</td>\n",
              "    </tr>\n",
              "    <tr>\n",
              "      <th>3</th>\n",
              "      <td>0.100</td>\n",
              "      <td>0.441047</td>\n",
              "      <td>0.330527</td>\n",
              "      <td>0.034186</td>\n",
              "      <td>0.019391</td>\n",
              "      <td>0.261745</td>\n",
              "      <td>0.196832</td>\n",
              "      <td>0.110521</td>\n",
              "    </tr>\n",
              "    <tr>\n",
              "      <th>4</th>\n",
              "      <td>0.200</td>\n",
              "      <td>0.438149</td>\n",
              "      <td>0.334543</td>\n",
              "      <td>0.031655</td>\n",
              "      <td>0.020812</td>\n",
              "      <td>0.262145</td>\n",
              "      <td>0.199683</td>\n",
              "      <td>0.103606</td>\n",
              "    </tr>\n",
              "    <tr>\n",
              "      <th>5</th>\n",
              "      <td>0.300</td>\n",
              "      <td>0.436729</td>\n",
              "      <td>0.337868</td>\n",
              "      <td>0.029388</td>\n",
              "      <td>0.021383</td>\n",
              "      <td>0.262713</td>\n",
              "      <td>0.202288</td>\n",
              "      <td>0.098861</td>\n",
              "    </tr>\n",
              "    <tr>\n",
              "      <th>6</th>\n",
              "      <td>0.500</td>\n",
              "      <td>0.436926</td>\n",
              "      <td>0.341966</td>\n",
              "      <td>0.027447</td>\n",
              "      <td>0.025759</td>\n",
              "      <td>0.263039</td>\n",
              "      <td>0.204704</td>\n",
              "      <td>0.094960</td>\n",
              "    </tr>\n",
              "    <tr>\n",
              "      <th>7</th>\n",
              "      <td>0.800</td>\n",
              "      <td>0.436957</td>\n",
              "      <td>0.345865</td>\n",
              "      <td>0.025740</td>\n",
              "      <td>0.027891</td>\n",
              "      <td>0.261897</td>\n",
              "      <td>0.206170</td>\n",
              "      <td>0.091092</td>\n",
              "    </tr>\n",
              "    <tr>\n",
              "      <th>8</th>\n",
              "      <td>0.900</td>\n",
              "      <td>0.436873</td>\n",
              "      <td>0.348894</td>\n",
              "      <td>0.024312</td>\n",
              "      <td>0.028469</td>\n",
              "      <td>0.260326</td>\n",
              "      <td>0.206445</td>\n",
              "      <td>0.087978</td>\n",
              "    </tr>\n",
              "    <tr>\n",
              "      <th>9</th>\n",
              "      <td>1.000</td>\n",
              "      <td>0.419866</td>\n",
              "      <td>0.340762</td>\n",
              "      <td>0.056005</td>\n",
              "      <td>0.037747</td>\n",
              "      <td>0.241509</td>\n",
              "      <td>0.192193</td>\n",
              "      <td>0.079104</td>\n",
              "    </tr>\n",
              "  </tbody>\n",
              "</table>\n",
              "</div>"
            ],
            "text/plain": [
              "   Reg param  ...  resta de accuracy\n",
              "0      0.000  ...           0.180023\n",
              "1      0.001  ...           0.135312\n",
              "2      0.004  ...           0.120534\n",
              "3      0.100  ...           0.110521\n",
              "4      0.200  ...           0.103606\n",
              "5      0.300  ...           0.098861\n",
              "6      0.500  ...           0.094960\n",
              "7      0.800  ...           0.091092\n",
              "8      0.900  ...           0.087978\n",
              "9      1.000  ...           0.079104\n",
              "\n",
              "[10 rows x 8 columns]"
            ]
          },
          "metadata": {},
          "execution_count": 54
        }
      ]
    },
    {
      "cell_type": "markdown",
      "metadata": {
        "id": "Zoa9LADB9G_g"
      },
      "source": [
        "Ventana de parzen"
      ]
    },
    {
      "cell_type": "code",
      "metadata": {
        "id": "JjCKHuMjyiqR"
      },
      "source": [
        "#resultsParzen=  VentanaParzen(X,y,hs=[0.000001,0.01,0.1,1,3,6,50])\n",
        "#resultsParzen"
      ],
      "execution_count": null,
      "outputs": []
    },
    {
      "cell_type": "markdown",
      "metadata": {
        "id": "6YFiNfT19I85"
      },
      "source": [
        "Gradient boosting tree"
      ]
    },
    {
      "cell_type": "code",
      "metadata": {
        "colab": {
          "base_uri": "https://localhost:8080/",
          "height": 1000
        },
        "id": "LBEX5MV0yini",
        "outputId": "5f702ce2-fd4a-4397-dba0-2083e3846641"
      },
      "source": [
        "resultadosGBT = GradientBoostingTree([1, 3, 5, 10, 25,50],[1,4,9,20, 50, 75, 100], X, y)\n",
        "resultadosGBT"
      ],
      "execution_count": 77,
      "outputs": [
        {
          "output_type": "execute_result",
          "data": {
            "text/html": [
              "<div>\n",
              "<style scoped>\n",
              "    .dataframe tbody tr th:only-of-type {\n",
              "        vertical-align: middle;\n",
              "    }\n",
              "\n",
              "    .dataframe tbody tr th {\n",
              "        vertical-align: top;\n",
              "    }\n",
              "\n",
              "    .dataframe thead th {\n",
              "        text-align: right;\n",
              "    }\n",
              "</style>\n",
              "<table border=\"1\" class=\"dataframe\">\n",
              "  <thead>\n",
              "    <tr style=\"text-align: right;\">\n",
              "      <th></th>\n",
              "      <th># Trees</th>\n",
              "      <th># Max_depth</th>\n",
              "      <th>Accuracy Train</th>\n",
              "      <th>Accuracy Test</th>\n",
              "      <th>Std Train</th>\n",
              "      <th>Std Test</th>\n",
              "      <th>Matthews corrcoef train</th>\n",
              "      <th>Matthews corrcoef test</th>\n",
              "      <th>resta de accuracy</th>\n",
              "    </tr>\n",
              "  </thead>\n",
              "  <tbody>\n",
              "    <tr>\n",
              "      <th>0</th>\n",
              "      <td>1.0</td>\n",
              "      <td>1.0</td>\n",
              "      <td>0.177680</td>\n",
              "      <td>0.171920</td>\n",
              "      <td>0.003807</td>\n",
              "      <td>0.007346</td>\n",
              "      <td>0.096936</td>\n",
              "      <td>0.080464</td>\n",
              "      <td>0.005760</td>\n",
              "    </tr>\n",
              "    <tr>\n",
              "      <th>1</th>\n",
              "      <td>1.0</td>\n",
              "      <td>4.0</td>\n",
              "      <td>0.316669</td>\n",
              "      <td>0.196852</td>\n",
              "      <td>0.018058</td>\n",
              "      <td>0.012789</td>\n",
              "      <td>0.211793</td>\n",
              "      <td>0.108071</td>\n",
              "      <td>0.119817</td>\n",
              "    </tr>\n",
              "    <tr>\n",
              "      <th>2</th>\n",
              "      <td>1.0</td>\n",
              "      <td>9.0</td>\n",
              "      <td>0.699239</td>\n",
              "      <td>0.226949</td>\n",
              "      <td>0.021889</td>\n",
              "      <td>0.027385</td>\n",
              "      <td>0.644347</td>\n",
              "      <td>0.126160</td>\n",
              "      <td>0.472290</td>\n",
              "    </tr>\n",
              "    <tr>\n",
              "      <th>3</th>\n",
              "      <td>1.0</td>\n",
              "      <td>20.0</td>\n",
              "      <td>0.991524</td>\n",
              "      <td>0.247189</td>\n",
              "      <td>0.004480</td>\n",
              "      <td>0.030998</td>\n",
              "      <td>0.989841</td>\n",
              "      <td>0.132442</td>\n",
              "      <td>0.744335</td>\n",
              "    </tr>\n",
              "    <tr>\n",
              "      <th>4</th>\n",
              "      <td>1.0</td>\n",
              "      <td>50.0</td>\n",
              "      <td>1.000000</td>\n",
              "      <td>0.235353</td>\n",
              "      <td>0.000000</td>\n",
              "      <td>0.036597</td>\n",
              "      <td>1.000000</td>\n",
              "      <td>0.124548</td>\n",
              "      <td>0.764647</td>\n",
              "    </tr>\n",
              "    <tr>\n",
              "      <th>5</th>\n",
              "      <td>1.0</td>\n",
              "      <td>75.0</td>\n",
              "      <td>1.000000</td>\n",
              "      <td>0.235917</td>\n",
              "      <td>0.000000</td>\n",
              "      <td>0.027696</td>\n",
              "      <td>1.000000</td>\n",
              "      <td>0.123427</td>\n",
              "      <td>0.764083</td>\n",
              "    </tr>\n",
              "    <tr>\n",
              "      <th>6</th>\n",
              "      <td>1.0</td>\n",
              "      <td>100.0</td>\n",
              "      <td>1.000000</td>\n",
              "      <td>0.234931</td>\n",
              "      <td>0.000000</td>\n",
              "      <td>0.028974</td>\n",
              "      <td>1.000000</td>\n",
              "      <td>0.118487</td>\n",
              "      <td>0.765069</td>\n",
              "    </tr>\n",
              "    <tr>\n",
              "      <th>7</th>\n",
              "      <td>3.0</td>\n",
              "      <td>1.0</td>\n",
              "      <td>0.224108</td>\n",
              "      <td>0.210887</td>\n",
              "      <td>0.006486</td>\n",
              "      <td>0.014921</td>\n",
              "      <td>0.158281</td>\n",
              "      <td>0.139350</td>\n",
              "      <td>0.013221</td>\n",
              "    </tr>\n",
              "    <tr>\n",
              "      <th>8</th>\n",
              "      <td>3.0</td>\n",
              "      <td>4.0</td>\n",
              "      <td>0.506851</td>\n",
              "      <td>0.269727</td>\n",
              "      <td>0.021224</td>\n",
              "      <td>0.029557</td>\n",
              "      <td>0.379573</td>\n",
              "      <td>0.182071</td>\n",
              "      <td>0.237124</td>\n",
              "    </tr>\n",
              "    <tr>\n",
              "      <th>9</th>\n",
              "      <td>3.0</td>\n",
              "      <td>9.0</td>\n",
              "      <td>0.894049</td>\n",
              "      <td>0.278890</td>\n",
              "      <td>0.014345</td>\n",
              "      <td>0.029443</td>\n",
              "      <td>0.857494</td>\n",
              "      <td>0.170806</td>\n",
              "      <td>0.615159</td>\n",
              "    </tr>\n",
              "    <tr>\n",
              "      <th>10</th>\n",
              "      <td>3.0</td>\n",
              "      <td>20.0</td>\n",
              "      <td>0.999945</td>\n",
              "      <td>0.272565</td>\n",
              "      <td>0.000110</td>\n",
              "      <td>0.017188</td>\n",
              "      <td>0.999884</td>\n",
              "      <td>0.172374</td>\n",
              "      <td>0.727380</td>\n",
              "    </tr>\n",
              "    <tr>\n",
              "      <th>11</th>\n",
              "      <td>3.0</td>\n",
              "      <td>50.0</td>\n",
              "      <td>1.000000</td>\n",
              "      <td>0.266538</td>\n",
              "      <td>0.000000</td>\n",
              "      <td>0.029437</td>\n",
              "      <td>1.000000</td>\n",
              "      <td>0.155643</td>\n",
              "      <td>0.733462</td>\n",
              "    </tr>\n",
              "    <tr>\n",
              "      <th>12</th>\n",
              "      <td>3.0</td>\n",
              "      <td>75.0</td>\n",
              "      <td>1.000000</td>\n",
              "      <td>0.272137</td>\n",
              "      <td>0.000000</td>\n",
              "      <td>0.032859</td>\n",
              "      <td>1.000000</td>\n",
              "      <td>0.163246</td>\n",
              "      <td>0.727863</td>\n",
              "    </tr>\n",
              "    <tr>\n",
              "      <th>13</th>\n",
              "      <td>3.0</td>\n",
              "      <td>100.0</td>\n",
              "      <td>1.000000</td>\n",
              "      <td>0.272781</td>\n",
              "      <td>0.000000</td>\n",
              "      <td>0.034607</td>\n",
              "      <td>1.000000</td>\n",
              "      <td>0.160974</td>\n",
              "      <td>0.727219</td>\n",
              "    </tr>\n",
              "    <tr>\n",
              "      <th>14</th>\n",
              "      <td>5.0</td>\n",
              "      <td>1.0</td>\n",
              "      <td>0.266311</td>\n",
              "      <td>0.232750</td>\n",
              "      <td>0.019392</td>\n",
              "      <td>0.013431</td>\n",
              "      <td>0.179364</td>\n",
              "      <td>0.152172</td>\n",
              "      <td>0.033561</td>\n",
              "    </tr>\n",
              "    <tr>\n",
              "      <th>15</th>\n",
              "      <td>5.0</td>\n",
              "      <td>4.0</td>\n",
              "      <td>0.586063</td>\n",
              "      <td>0.288744</td>\n",
              "      <td>0.017127</td>\n",
              "      <td>0.018404</td>\n",
              "      <td>0.452892</td>\n",
              "      <td>0.203953</td>\n",
              "      <td>0.297319</td>\n",
              "    </tr>\n",
              "    <tr>\n",
              "      <th>16</th>\n",
              "      <td>5.0</td>\n",
              "      <td>9.0</td>\n",
              "      <td>0.944987</td>\n",
              "      <td>0.283672</td>\n",
              "      <td>0.013113</td>\n",
              "      <td>0.033243</td>\n",
              "      <td>0.925808</td>\n",
              "      <td>0.179372</td>\n",
              "      <td>0.661315</td>\n",
              "    </tr>\n",
              "    <tr>\n",
              "      <th>17</th>\n",
              "      <td>5.0</td>\n",
              "      <td>20.0</td>\n",
              "      <td>1.000000</td>\n",
              "      <td>0.280385</td>\n",
              "      <td>0.000000</td>\n",
              "      <td>0.020126</td>\n",
              "      <td>1.000000</td>\n",
              "      <td>0.167558</td>\n",
              "      <td>0.719615</td>\n",
              "    </tr>\n",
              "    <tr>\n",
              "      <th>18</th>\n",
              "      <td>5.0</td>\n",
              "      <td>50.0</td>\n",
              "      <td>1.000000</td>\n",
              "      <td>0.281464</td>\n",
              "      <td>0.000000</td>\n",
              "      <td>0.031046</td>\n",
              "      <td>1.000000</td>\n",
              "      <td>0.167470</td>\n",
              "      <td>0.718536</td>\n",
              "    </tr>\n",
              "    <tr>\n",
              "      <th>19</th>\n",
              "      <td>5.0</td>\n",
              "      <td>75.0</td>\n",
              "      <td>1.000000</td>\n",
              "      <td>0.292553</td>\n",
              "      <td>0.000000</td>\n",
              "      <td>0.016522</td>\n",
              "      <td>1.000000</td>\n",
              "      <td>0.183610</td>\n",
              "      <td>0.707447</td>\n",
              "    </tr>\n",
              "    <tr>\n",
              "      <th>20</th>\n",
              "      <td>5.0</td>\n",
              "      <td>100.0</td>\n",
              "      <td>1.000000</td>\n",
              "      <td>0.282995</td>\n",
              "      <td>0.000000</td>\n",
              "      <td>0.013509</td>\n",
              "      <td>1.000000</td>\n",
              "      <td>0.174112</td>\n",
              "      <td>0.717005</td>\n",
              "    </tr>\n",
              "    <tr>\n",
              "      <th>21</th>\n",
              "      <td>10.0</td>\n",
              "      <td>1.0</td>\n",
              "      <td>0.316436</td>\n",
              "      <td>0.280360</td>\n",
              "      <td>0.012931</td>\n",
              "      <td>0.034299</td>\n",
              "      <td>0.215933</td>\n",
              "      <td>0.181469</td>\n",
              "      <td>0.036076</td>\n",
              "    </tr>\n",
              "    <tr>\n",
              "      <th>22</th>\n",
              "      <td>10.0</td>\n",
              "      <td>4.0</td>\n",
              "      <td>0.669831</td>\n",
              "      <td>0.315807</td>\n",
              "      <td>0.008079</td>\n",
              "      <td>0.016592</td>\n",
              "      <td>0.544068</td>\n",
              "      <td>0.219938</td>\n",
              "      <td>0.354024</td>\n",
              "    </tr>\n",
              "    <tr>\n",
              "      <th>23</th>\n",
              "      <td>10.0</td>\n",
              "      <td>9.0</td>\n",
              "      <td>0.986896</td>\n",
              "      <td>0.295354</td>\n",
              "      <td>0.004630</td>\n",
              "      <td>0.037170</td>\n",
              "      <td>0.983657</td>\n",
              "      <td>0.196082</td>\n",
              "      <td>0.691542</td>\n",
              "    </tr>\n",
              "    <tr>\n",
              "      <th>24</th>\n",
              "      <td>10.0</td>\n",
              "      <td>20.0</td>\n",
              "      <td>1.000000</td>\n",
              "      <td>0.276917</td>\n",
              "      <td>0.000000</td>\n",
              "      <td>0.027549</td>\n",
              "      <td>1.000000</td>\n",
              "      <td>0.163505</td>\n",
              "      <td>0.723083</td>\n",
              "    </tr>\n",
              "    <tr>\n",
              "      <th>25</th>\n",
              "      <td>10.0</td>\n",
              "      <td>50.0</td>\n",
              "      <td>1.000000</td>\n",
              "      <td>0.285297</td>\n",
              "      <td>0.000000</td>\n",
              "      <td>0.022428</td>\n",
              "      <td>1.000000</td>\n",
              "      <td>0.174014</td>\n",
              "      <td>0.714703</td>\n",
              "    </tr>\n",
              "    <tr>\n",
              "      <th>26</th>\n",
              "      <td>10.0</td>\n",
              "      <td>75.0</td>\n",
              "      <td>1.000000</td>\n",
              "      <td>0.281172</td>\n",
              "      <td>0.000000</td>\n",
              "      <td>0.013019</td>\n",
              "      <td>1.000000</td>\n",
              "      <td>0.168857</td>\n",
              "      <td>0.718828</td>\n",
              "    </tr>\n",
              "    <tr>\n",
              "      <th>27</th>\n",
              "      <td>10.0</td>\n",
              "      <td>100.0</td>\n",
              "      <td>1.000000</td>\n",
              "      <td>0.296150</td>\n",
              "      <td>0.000000</td>\n",
              "      <td>0.025281</td>\n",
              "      <td>1.000000</td>\n",
              "      <td>0.183197</td>\n",
              "      <td>0.703850</td>\n",
              "    </tr>\n",
              "    <tr>\n",
              "      <th>28</th>\n",
              "      <td>25.0</td>\n",
              "      <td>1.0</td>\n",
              "      <td>0.374009</td>\n",
              "      <td>0.308660</td>\n",
              "      <td>0.012923</td>\n",
              "      <td>0.026765</td>\n",
              "      <td>0.278042</td>\n",
              "      <td>0.205925</td>\n",
              "      <td>0.065349</td>\n",
              "    </tr>\n",
              "    <tr>\n",
              "      <th>29</th>\n",
              "      <td>25.0</td>\n",
              "      <td>4.0</td>\n",
              "      <td>0.799696</td>\n",
              "      <td>0.329550</td>\n",
              "      <td>0.002526</td>\n",
              "      <td>0.017789</td>\n",
              "      <td>0.704031</td>\n",
              "      <td>0.231933</td>\n",
              "      <td>0.470147</td>\n",
              "    </tr>\n",
              "    <tr>\n",
              "      <th>30</th>\n",
              "      <td>25.0</td>\n",
              "      <td>9.0</td>\n",
              "      <td>1.000000</td>\n",
              "      <td>0.298750</td>\n",
              "      <td>0.000000</td>\n",
              "      <td>0.015910</td>\n",
              "      <td>1.000000</td>\n",
              "      <td>0.208181</td>\n",
              "      <td>0.701250</td>\n",
              "    </tr>\n",
              "    <tr>\n",
              "      <th>31</th>\n",
              "      <td>25.0</td>\n",
              "      <td>20.0</td>\n",
              "      <td>1.000000</td>\n",
              "      <td>0.280591</td>\n",
              "      <td>0.000000</td>\n",
              "      <td>0.017747</td>\n",
              "      <td>1.000000</td>\n",
              "      <td>0.174107</td>\n",
              "      <td>0.719409</td>\n",
              "    </tr>\n",
              "    <tr>\n",
              "      <th>32</th>\n",
              "      <td>25.0</td>\n",
              "      <td>50.0</td>\n",
              "      <td>1.000000</td>\n",
              "      <td>0.285584</td>\n",
              "      <td>0.000000</td>\n",
              "      <td>0.018825</td>\n",
              "      <td>1.000000</td>\n",
              "      <td>0.180580</td>\n",
              "      <td>0.714416</td>\n",
              "    </tr>\n",
              "    <tr>\n",
              "      <th>33</th>\n",
              "      <td>25.0</td>\n",
              "      <td>75.0</td>\n",
              "      <td>1.000000</td>\n",
              "      <td>0.293234</td>\n",
              "      <td>0.000000</td>\n",
              "      <td>0.028076</td>\n",
              "      <td>1.000000</td>\n",
              "      <td>0.180628</td>\n",
              "      <td>0.706766</td>\n",
              "    </tr>\n",
              "    <tr>\n",
              "      <th>34</th>\n",
              "      <td>25.0</td>\n",
              "      <td>100.0</td>\n",
              "      <td>1.000000</td>\n",
              "      <td>0.295379</td>\n",
              "      <td>0.000000</td>\n",
              "      <td>0.025688</td>\n",
              "      <td>1.000000</td>\n",
              "      <td>0.179505</td>\n",
              "      <td>0.704621</td>\n",
              "    </tr>\n",
              "    <tr>\n",
              "      <th>35</th>\n",
              "      <td>50.0</td>\n",
              "      <td>1.0</td>\n",
              "      <td>0.413750</td>\n",
              "      <td>0.329987</td>\n",
              "      <td>0.011015</td>\n",
              "      <td>0.025276</td>\n",
              "      <td>0.325960</td>\n",
              "      <td>0.234509</td>\n",
              "      <td>0.083763</td>\n",
              "    </tr>\n",
              "    <tr>\n",
              "      <th>36</th>\n",
              "      <td>50.0</td>\n",
              "      <td>4.0</td>\n",
              "      <td>0.887890</td>\n",
              "      <td>0.320429</td>\n",
              "      <td>0.003417</td>\n",
              "      <td>0.018800</td>\n",
              "      <td>0.828908</td>\n",
              "      <td>0.228482</td>\n",
              "      <td>0.567460</td>\n",
              "    </tr>\n",
              "    <tr>\n",
              "      <th>37</th>\n",
              "      <td>50.0</td>\n",
              "      <td>9.0</td>\n",
              "      <td>1.000000</td>\n",
              "      <td>0.330171</td>\n",
              "      <td>0.000000</td>\n",
              "      <td>0.020776</td>\n",
              "      <td>1.000000</td>\n",
              "      <td>0.242181</td>\n",
              "      <td>0.669829</td>\n",
              "    </tr>\n",
              "    <tr>\n",
              "      <th>38</th>\n",
              "      <td>50.0</td>\n",
              "      <td>20.0</td>\n",
              "      <td>1.000000</td>\n",
              "      <td>0.282168</td>\n",
              "      <td>0.000000</td>\n",
              "      <td>0.012356</td>\n",
              "      <td>1.000000</td>\n",
              "      <td>0.178289</td>\n",
              "      <td>0.717832</td>\n",
              "    </tr>\n",
              "    <tr>\n",
              "      <th>39</th>\n",
              "      <td>50.0</td>\n",
              "      <td>50.0</td>\n",
              "      <td>1.000000</td>\n",
              "      <td>0.292382</td>\n",
              "      <td>0.000000</td>\n",
              "      <td>0.018598</td>\n",
              "      <td>1.000000</td>\n",
              "      <td>0.192386</td>\n",
              "      <td>0.707618</td>\n",
              "    </tr>\n",
              "    <tr>\n",
              "      <th>40</th>\n",
              "      <td>50.0</td>\n",
              "      <td>75.0</td>\n",
              "      <td>1.000000</td>\n",
              "      <td>0.293352</td>\n",
              "      <td>0.000000</td>\n",
              "      <td>0.031746</td>\n",
              "      <td>1.000000</td>\n",
              "      <td>0.187140</td>\n",
              "      <td>0.706648</td>\n",
              "    </tr>\n",
              "    <tr>\n",
              "      <th>41</th>\n",
              "      <td>50.0</td>\n",
              "      <td>100.0</td>\n",
              "      <td>1.000000</td>\n",
              "      <td>0.291782</td>\n",
              "      <td>0.000000</td>\n",
              "      <td>0.028657</td>\n",
              "      <td>1.000000</td>\n",
              "      <td>0.183262</td>\n",
              "      <td>0.708218</td>\n",
              "    </tr>\n",
              "  </tbody>\n",
              "</table>\n",
              "</div>"
            ],
            "text/plain": [
              "    # Trees  # Max_depth  ...  Matthews corrcoef test  resta de accuracy\n",
              "0       1.0          1.0  ...                0.080464           0.005760\n",
              "1       1.0          4.0  ...                0.108071           0.119817\n",
              "2       1.0          9.0  ...                0.126160           0.472290\n",
              "3       1.0         20.0  ...                0.132442           0.744335\n",
              "4       1.0         50.0  ...                0.124548           0.764647\n",
              "5       1.0         75.0  ...                0.123427           0.764083\n",
              "6       1.0        100.0  ...                0.118487           0.765069\n",
              "7       3.0          1.0  ...                0.139350           0.013221\n",
              "8       3.0          4.0  ...                0.182071           0.237124\n",
              "9       3.0          9.0  ...                0.170806           0.615159\n",
              "10      3.0         20.0  ...                0.172374           0.727380\n",
              "11      3.0         50.0  ...                0.155643           0.733462\n",
              "12      3.0         75.0  ...                0.163246           0.727863\n",
              "13      3.0        100.0  ...                0.160974           0.727219\n",
              "14      5.0          1.0  ...                0.152172           0.033561\n",
              "15      5.0          4.0  ...                0.203953           0.297319\n",
              "16      5.0          9.0  ...                0.179372           0.661315\n",
              "17      5.0         20.0  ...                0.167558           0.719615\n",
              "18      5.0         50.0  ...                0.167470           0.718536\n",
              "19      5.0         75.0  ...                0.183610           0.707447\n",
              "20      5.0        100.0  ...                0.174112           0.717005\n",
              "21     10.0          1.0  ...                0.181469           0.036076\n",
              "22     10.0          4.0  ...                0.219938           0.354024\n",
              "23     10.0          9.0  ...                0.196082           0.691542\n",
              "24     10.0         20.0  ...                0.163505           0.723083\n",
              "25     10.0         50.0  ...                0.174014           0.714703\n",
              "26     10.0         75.0  ...                0.168857           0.718828\n",
              "27     10.0        100.0  ...                0.183197           0.703850\n",
              "28     25.0          1.0  ...                0.205925           0.065349\n",
              "29     25.0          4.0  ...                0.231933           0.470147\n",
              "30     25.0          9.0  ...                0.208181           0.701250\n",
              "31     25.0         20.0  ...                0.174107           0.719409\n",
              "32     25.0         50.0  ...                0.180580           0.714416\n",
              "33     25.0         75.0  ...                0.180628           0.706766\n",
              "34     25.0        100.0  ...                0.179505           0.704621\n",
              "35     50.0          1.0  ...                0.234509           0.083763\n",
              "36     50.0          4.0  ...                0.228482           0.567460\n",
              "37     50.0          9.0  ...                0.242181           0.669829\n",
              "38     50.0         20.0  ...                0.178289           0.717832\n",
              "39     50.0         50.0  ...                0.192386           0.707618\n",
              "40     50.0         75.0  ...                0.187140           0.706648\n",
              "41     50.0        100.0  ...                0.183262           0.708218\n",
              "\n",
              "[42 rows x 9 columns]"
            ]
          },
          "metadata": {},
          "execution_count": 77
        }
      ]
    },
    {
      "cell_type": "markdown",
      "metadata": {
        "id": "7t-M6vwv9L7K"
      },
      "source": [
        "Redes neuronales artificiales"
      ]
    },
    {
      "cell_type": "code",
      "metadata": {
        "colab": {
          "base_uri": "https://localhost:8080/",
          "height": 793
        },
        "id": "ilvLOhbDyilW",
        "outputId": "8eb36b47-9af6-45b9-f582-d5fc96bc664c"
      },
      "source": [
        "resultadosRNA = RedesNeuronalesArtificiales(X,y, [1,2,3], [1, 3, 5, 10, 20,50,100,500])\n",
        "resultadosRNA"
      ],
      "execution_count": 30,
      "outputs": [
        {
          "output_type": "execute_result",
          "data": {
            "text/html": [
              "<div>\n",
              "<style scoped>\n",
              "    .dataframe tbody tr th:only-of-type {\n",
              "        vertical-align: middle;\n",
              "    }\n",
              "\n",
              "    .dataframe tbody tr th {\n",
              "        vertical-align: top;\n",
              "    }\n",
              "\n",
              "    .dataframe thead th {\n",
              "        text-align: right;\n",
              "    }\n",
              "</style>\n",
              "<table border=\"1\" class=\"dataframe\">\n",
              "  <thead>\n",
              "    <tr style=\"text-align: right;\">\n",
              "      <th></th>\n",
              "      <th># Hidden layers</th>\n",
              "      <th># Neurons</th>\n",
              "      <th>Accuracy Train</th>\n",
              "      <th>Accuracy Test</th>\n",
              "      <th>Std Train</th>\n",
              "      <th>Std Test</th>\n",
              "      <th>Matthews corrcoef train</th>\n",
              "      <th>Matthews corrcoef test</th>\n",
              "      <th>resta de accuracy</th>\n",
              "    </tr>\n",
              "  </thead>\n",
              "  <tbody>\n",
              "    <tr>\n",
              "      <th>0</th>\n",
              "      <td>1.0</td>\n",
              "      <td>1.0</td>\n",
              "      <td>0.263220</td>\n",
              "      <td>0.257065</td>\n",
              "      <td>0.020221</td>\n",
              "      <td>0.020150</td>\n",
              "      <td>0.221967</td>\n",
              "      <td>0.209154</td>\n",
              "      <td>0.006155</td>\n",
              "    </tr>\n",
              "    <tr>\n",
              "      <th>1</th>\n",
              "      <td>1.0</td>\n",
              "      <td>3.0</td>\n",
              "      <td>0.323235</td>\n",
              "      <td>0.314730</td>\n",
              "      <td>0.005718</td>\n",
              "      <td>0.010322</td>\n",
              "      <td>0.284775</td>\n",
              "      <td>0.269469</td>\n",
              "      <td>0.008504</td>\n",
              "    </tr>\n",
              "    <tr>\n",
              "      <th>2</th>\n",
              "      <td>1.0</td>\n",
              "      <td>5.0</td>\n",
              "      <td>0.335931</td>\n",
              "      <td>0.321338</td>\n",
              "      <td>0.018180</td>\n",
              "      <td>0.014023</td>\n",
              "      <td>0.292451</td>\n",
              "      <td>0.262807</td>\n",
              "      <td>0.014593</td>\n",
              "    </tr>\n",
              "    <tr>\n",
              "      <th>3</th>\n",
              "      <td>1.0</td>\n",
              "      <td>10.0</td>\n",
              "      <td>0.341853</td>\n",
              "      <td>0.325233</td>\n",
              "      <td>0.011770</td>\n",
              "      <td>0.018392</td>\n",
              "      <td>0.291242</td>\n",
              "      <td>0.258160</td>\n",
              "      <td>0.016620</td>\n",
              "    </tr>\n",
              "    <tr>\n",
              "      <th>4</th>\n",
              "      <td>1.0</td>\n",
              "      <td>20.0</td>\n",
              "      <td>0.362427</td>\n",
              "      <td>0.332923</td>\n",
              "      <td>0.007205</td>\n",
              "      <td>0.007753</td>\n",
              "      <td>0.300975</td>\n",
              "      <td>0.255553</td>\n",
              "      <td>0.029504</td>\n",
              "    </tr>\n",
              "    <tr>\n",
              "      <th>5</th>\n",
              "      <td>1.0</td>\n",
              "      <td>50.0</td>\n",
              "      <td>0.357968</td>\n",
              "      <td>0.341354</td>\n",
              "      <td>0.005258</td>\n",
              "      <td>0.019020</td>\n",
              "      <td>0.294496</td>\n",
              "      <td>0.264765</td>\n",
              "      <td>0.016615</td>\n",
              "    </tr>\n",
              "    <tr>\n",
              "      <th>6</th>\n",
              "      <td>1.0</td>\n",
              "      <td>100.0</td>\n",
              "      <td>0.357330</td>\n",
              "      <td>0.340727</td>\n",
              "      <td>0.006915</td>\n",
              "      <td>0.012339</td>\n",
              "      <td>0.296786</td>\n",
              "      <td>0.271027</td>\n",
              "      <td>0.016604</td>\n",
              "    </tr>\n",
              "    <tr>\n",
              "      <th>7</th>\n",
              "      <td>1.0</td>\n",
              "      <td>500.0</td>\n",
              "      <td>0.376162</td>\n",
              "      <td>0.325933</td>\n",
              "      <td>0.043651</td>\n",
              "      <td>0.009522</td>\n",
              "      <td>0.282500</td>\n",
              "      <td>0.244705</td>\n",
              "      <td>0.050229</td>\n",
              "    </tr>\n",
              "    <tr>\n",
              "      <th>8</th>\n",
              "      <td>2.0</td>\n",
              "      <td>1.0</td>\n",
              "      <td>0.247298</td>\n",
              "      <td>0.244150</td>\n",
              "      <td>0.020876</td>\n",
              "      <td>0.022033</td>\n",
              "      <td>0.206688</td>\n",
              "      <td>0.199966</td>\n",
              "      <td>0.003148</td>\n",
              "    </tr>\n",
              "    <tr>\n",
              "      <th>9</th>\n",
              "      <td>2.0</td>\n",
              "      <td>3.0</td>\n",
              "      <td>0.320955</td>\n",
              "      <td>0.313977</td>\n",
              "      <td>0.009994</td>\n",
              "      <td>0.012115</td>\n",
              "      <td>0.281486</td>\n",
              "      <td>0.267772</td>\n",
              "      <td>0.006978</td>\n",
              "    </tr>\n",
              "    <tr>\n",
              "      <th>10</th>\n",
              "      <td>2.0</td>\n",
              "      <td>5.0</td>\n",
              "      <td>0.326086</td>\n",
              "      <td>0.316931</td>\n",
              "      <td>0.014369</td>\n",
              "      <td>0.007735</td>\n",
              "      <td>0.281553</td>\n",
              "      <td>0.266265</td>\n",
              "      <td>0.009154</td>\n",
              "    </tr>\n",
              "    <tr>\n",
              "      <th>11</th>\n",
              "      <td>2.0</td>\n",
              "      <td>10.0</td>\n",
              "      <td>0.347102</td>\n",
              "      <td>0.333923</td>\n",
              "      <td>0.015871</td>\n",
              "      <td>0.010723</td>\n",
              "      <td>0.295178</td>\n",
              "      <td>0.271843</td>\n",
              "      <td>0.013179</td>\n",
              "    </tr>\n",
              "    <tr>\n",
              "      <th>12</th>\n",
              "      <td>2.0</td>\n",
              "      <td>20.0</td>\n",
              "      <td>0.329942</td>\n",
              "      <td>0.323779</td>\n",
              "      <td>0.008055</td>\n",
              "      <td>0.011753</td>\n",
              "      <td>0.284125</td>\n",
              "      <td>0.270668</td>\n",
              "      <td>0.006163</td>\n",
              "    </tr>\n",
              "    <tr>\n",
              "      <th>13</th>\n",
              "      <td>2.0</td>\n",
              "      <td>50.0</td>\n",
              "      <td>0.338757</td>\n",
              "      <td>0.325815</td>\n",
              "      <td>0.018754</td>\n",
              "      <td>0.018266</td>\n",
              "      <td>0.283975</td>\n",
              "      <td>0.260041</td>\n",
              "      <td>0.012941</td>\n",
              "    </tr>\n",
              "    <tr>\n",
              "      <th>14</th>\n",
              "      <td>2.0</td>\n",
              "      <td>100.0</td>\n",
              "      <td>0.334992</td>\n",
              "      <td>0.324894</td>\n",
              "      <td>0.008508</td>\n",
              "      <td>0.005034</td>\n",
              "      <td>0.278369</td>\n",
              "      <td>0.257725</td>\n",
              "      <td>0.010098</td>\n",
              "    </tr>\n",
              "    <tr>\n",
              "      <th>15</th>\n",
              "      <td>2.0</td>\n",
              "      <td>500.0</td>\n",
              "      <td>0.341794</td>\n",
              "      <td>0.328857</td>\n",
              "      <td>0.007742</td>\n",
              "      <td>0.009340</td>\n",
              "      <td>0.274750</td>\n",
              "      <td>0.256206</td>\n",
              "      <td>0.012937</td>\n",
              "    </tr>\n",
              "    <tr>\n",
              "      <th>16</th>\n",
              "      <td>3.0</td>\n",
              "      <td>1.0</td>\n",
              "      <td>0.223856</td>\n",
              "      <td>0.218982</td>\n",
              "      <td>0.051081</td>\n",
              "      <td>0.048765</td>\n",
              "      <td>0.159522</td>\n",
              "      <td>0.148679</td>\n",
              "      <td>0.004874</td>\n",
              "    </tr>\n",
              "    <tr>\n",
              "      <th>17</th>\n",
              "      <td>3.0</td>\n",
              "      <td>3.0</td>\n",
              "      <td>0.320830</td>\n",
              "      <td>0.311128</td>\n",
              "      <td>0.009133</td>\n",
              "      <td>0.003318</td>\n",
              "      <td>0.278863</td>\n",
              "      <td>0.260512</td>\n",
              "      <td>0.009702</td>\n",
              "    </tr>\n",
              "    <tr>\n",
              "      <th>18</th>\n",
              "      <td>3.0</td>\n",
              "      <td>5.0</td>\n",
              "      <td>0.321656</td>\n",
              "      <td>0.313465</td>\n",
              "      <td>0.015262</td>\n",
              "      <td>0.011984</td>\n",
              "      <td>0.280069</td>\n",
              "      <td>0.265115</td>\n",
              "      <td>0.008191</td>\n",
              "    </tr>\n",
              "    <tr>\n",
              "      <th>19</th>\n",
              "      <td>3.0</td>\n",
              "      <td>10.0</td>\n",
              "      <td>0.322406</td>\n",
              "      <td>0.313328</td>\n",
              "      <td>0.004155</td>\n",
              "      <td>0.011459</td>\n",
              "      <td>0.279539</td>\n",
              "      <td>0.262681</td>\n",
              "      <td>0.009078</td>\n",
              "    </tr>\n",
              "    <tr>\n",
              "      <th>20</th>\n",
              "      <td>3.0</td>\n",
              "      <td>20.0</td>\n",
              "      <td>0.342443</td>\n",
              "      <td>0.336562</td>\n",
              "      <td>0.023348</td>\n",
              "      <td>0.015414</td>\n",
              "      <td>0.290821</td>\n",
              "      <td>0.275379</td>\n",
              "      <td>0.005880</td>\n",
              "    </tr>\n",
              "    <tr>\n",
              "      <th>21</th>\n",
              "      <td>3.0</td>\n",
              "      <td>50.0</td>\n",
              "      <td>0.341184</td>\n",
              "      <td>0.338677</td>\n",
              "      <td>0.012941</td>\n",
              "      <td>0.019419</td>\n",
              "      <td>0.282018</td>\n",
              "      <td>0.277991</td>\n",
              "      <td>0.002507</td>\n",
              "    </tr>\n",
              "    <tr>\n",
              "      <th>22</th>\n",
              "      <td>3.0</td>\n",
              "      <td>100.0</td>\n",
              "      <td>0.346244</td>\n",
              "      <td>0.342563</td>\n",
              "      <td>0.011325</td>\n",
              "      <td>0.016052</td>\n",
              "      <td>0.278259</td>\n",
              "      <td>0.273224</td>\n",
              "      <td>0.003682</td>\n",
              "    </tr>\n",
              "    <tr>\n",
              "      <th>23</th>\n",
              "      <td>3.0</td>\n",
              "      <td>500.0</td>\n",
              "      <td>0.325126</td>\n",
              "      <td>0.328354</td>\n",
              "      <td>0.022792</td>\n",
              "      <td>0.020473</td>\n",
              "      <td>0.262495</td>\n",
              "      <td>0.260190</td>\n",
              "      <td>0.003228</td>\n",
              "    </tr>\n",
              "  </tbody>\n",
              "</table>\n",
              "</div>"
            ],
            "text/plain": [
              "    # Hidden layers  # Neurons  ...  Matthews corrcoef test  resta de accuracy\n",
              "0               1.0        1.0  ...                0.209154           0.006155\n",
              "1               1.0        3.0  ...                0.269469           0.008504\n",
              "2               1.0        5.0  ...                0.262807           0.014593\n",
              "3               1.0       10.0  ...                0.258160           0.016620\n",
              "4               1.0       20.0  ...                0.255553           0.029504\n",
              "5               1.0       50.0  ...                0.264765           0.016615\n",
              "6               1.0      100.0  ...                0.271027           0.016604\n",
              "7               1.0      500.0  ...                0.244705           0.050229\n",
              "8               2.0        1.0  ...                0.199966           0.003148\n",
              "9               2.0        3.0  ...                0.267772           0.006978\n",
              "10              2.0        5.0  ...                0.266265           0.009154\n",
              "11              2.0       10.0  ...                0.271843           0.013179\n",
              "12              2.0       20.0  ...                0.270668           0.006163\n",
              "13              2.0       50.0  ...                0.260041           0.012941\n",
              "14              2.0      100.0  ...                0.257725           0.010098\n",
              "15              2.0      500.0  ...                0.256206           0.012937\n",
              "16              3.0        1.0  ...                0.148679           0.004874\n",
              "17              3.0        3.0  ...                0.260512           0.009702\n",
              "18              3.0        5.0  ...                0.265115           0.008191\n",
              "19              3.0       10.0  ...                0.262681           0.009078\n",
              "20              3.0       20.0  ...                0.275379           0.005880\n",
              "21              3.0       50.0  ...                0.277991           0.002507\n",
              "22              3.0      100.0  ...                0.273224           0.003682\n",
              "23              3.0      500.0  ...                0.260190           0.003228\n",
              "\n",
              "[24 rows x 9 columns]"
            ]
          },
          "metadata": {},
          "execution_count": 30
        }
      ]
    },
    {
      "cell_type": "markdown",
      "metadata": {
        "id": "CoZCPy-a9OwZ"
      },
      "source": [
        "Maquina de soporte vectorial"
      ]
    },
    {
      "cell_type": "code",
      "metadata": {
        "id": "Lb6B5eyuyijd",
        "colab": {
          "base_uri": "https://localhost:8080/",
          "height": 669
        },
        "outputId": "5b075e73-8722-4217-b8f2-d49c5ae61247"
      },
      "source": [
        "resultadosMSV=  MaquinaSoporteVectorial(X,y,kernels=['linear','rbf'],gammas = [0.001,0.01], params_reg = [0.1, 1, 2, 5,10])\n",
        "resultadosMSV"
      ],
      "execution_count": 116,
      "outputs": [
        {
          "output_type": "execute_result",
          "data": {
            "text/html": [
              "<div>\n",
              "<style scoped>\n",
              "    .dataframe tbody tr th:only-of-type {\n",
              "        vertical-align: middle;\n",
              "    }\n",
              "\n",
              "    .dataframe tbody tr th {\n",
              "        vertical-align: top;\n",
              "    }\n",
              "\n",
              "    .dataframe thead th {\n",
              "        text-align: right;\n",
              "    }\n",
              "</style>\n",
              "<table border=\"1\" class=\"dataframe\">\n",
              "  <thead>\n",
              "    <tr style=\"text-align: right;\">\n",
              "      <th></th>\n",
              "      <th>kernel</th>\n",
              "      <th>gamma</th>\n",
              "      <th>param_reg</th>\n",
              "      <th>Accuracy Train</th>\n",
              "      <th>Accuracy Test</th>\n",
              "      <th>Std Train</th>\n",
              "      <th>Std Test</th>\n",
              "      <th>% de vectores de soporte</th>\n",
              "      <th>Matthews corrcoef train</th>\n",
              "      <th>Matthews corrcoef test</th>\n",
              "      <th>resta de accuracy</th>\n",
              "    </tr>\n",
              "  </thead>\n",
              "  <tbody>\n",
              "    <tr>\n",
              "      <th>0</th>\n",
              "      <td>linear</td>\n",
              "      <td>0.001</td>\n",
              "      <td>0.1</td>\n",
              "      <td>0.346768</td>\n",
              "      <td>0.318856</td>\n",
              "      <td>0.008639</td>\n",
              "      <td>0.016826</td>\n",
              "      <td>97.715296</td>\n",
              "      <td>0.293501</td>\n",
              "      <td>0.256493</td>\n",
              "      <td>0.027912</td>\n",
              "    </tr>\n",
              "    <tr>\n",
              "      <th>1</th>\n",
              "      <td>linear</td>\n",
              "      <td>0.001</td>\n",
              "      <td>1.0</td>\n",
              "      <td>0.361529</td>\n",
              "      <td>0.329974</td>\n",
              "      <td>0.004421</td>\n",
              "      <td>0.022066</td>\n",
              "      <td>97.465646</td>\n",
              "      <td>0.302328</td>\n",
              "      <td>0.258997</td>\n",
              "      <td>0.031555</td>\n",
              "    </tr>\n",
              "    <tr>\n",
              "      <th>2</th>\n",
              "      <td>linear</td>\n",
              "      <td>0.001</td>\n",
              "      <td>2.0</td>\n",
              "      <td>0.371976</td>\n",
              "      <td>0.328989</td>\n",
              "      <td>0.011794</td>\n",
              "      <td>0.020904</td>\n",
              "      <td>97.390708</td>\n",
              "      <td>0.302696</td>\n",
              "      <td>0.256719</td>\n",
              "      <td>0.042987</td>\n",
              "    </tr>\n",
              "    <tr>\n",
              "      <th>3</th>\n",
              "      <td>linear</td>\n",
              "      <td>0.001</td>\n",
              "      <td>5.0</td>\n",
              "      <td>0.372407</td>\n",
              "      <td>0.331681</td>\n",
              "      <td>0.015397</td>\n",
              "      <td>0.020778</td>\n",
              "      <td>97.465609</td>\n",
              "      <td>0.300605</td>\n",
              "      <td>0.259240</td>\n",
              "      <td>0.040726</td>\n",
              "    </tr>\n",
              "    <tr>\n",
              "      <th>4</th>\n",
              "      <td>linear</td>\n",
              "      <td>0.001</td>\n",
              "      <td>10.0</td>\n",
              "      <td>0.373592</td>\n",
              "      <td>0.329567</td>\n",
              "      <td>0.014165</td>\n",
              "      <td>0.022917</td>\n",
              "      <td>97.478121</td>\n",
              "      <td>0.301774</td>\n",
              "      <td>0.257437</td>\n",
              "      <td>0.044025</td>\n",
              "    </tr>\n",
              "    <tr>\n",
              "      <th>5</th>\n",
              "      <td>linear</td>\n",
              "      <td>0.010</td>\n",
              "      <td>0.1</td>\n",
              "      <td>0.346768</td>\n",
              "      <td>0.318856</td>\n",
              "      <td>0.008639</td>\n",
              "      <td>0.016826</td>\n",
              "      <td>97.715296</td>\n",
              "      <td>0.293501</td>\n",
              "      <td>0.256493</td>\n",
              "      <td>0.027912</td>\n",
              "    </tr>\n",
              "    <tr>\n",
              "      <th>6</th>\n",
              "      <td>linear</td>\n",
              "      <td>0.010</td>\n",
              "      <td>1.0</td>\n",
              "      <td>0.361529</td>\n",
              "      <td>0.329974</td>\n",
              "      <td>0.004421</td>\n",
              "      <td>0.022066</td>\n",
              "      <td>97.465646</td>\n",
              "      <td>0.302328</td>\n",
              "      <td>0.258997</td>\n",
              "      <td>0.031555</td>\n",
              "    </tr>\n",
              "    <tr>\n",
              "      <th>7</th>\n",
              "      <td>linear</td>\n",
              "      <td>0.010</td>\n",
              "      <td>2.0</td>\n",
              "      <td>0.371976</td>\n",
              "      <td>0.328989</td>\n",
              "      <td>0.011794</td>\n",
              "      <td>0.020904</td>\n",
              "      <td>97.390708</td>\n",
              "      <td>0.302696</td>\n",
              "      <td>0.256719</td>\n",
              "      <td>0.042987</td>\n",
              "    </tr>\n",
              "    <tr>\n",
              "      <th>8</th>\n",
              "      <td>linear</td>\n",
              "      <td>0.010</td>\n",
              "      <td>5.0</td>\n",
              "      <td>0.372407</td>\n",
              "      <td>0.331681</td>\n",
              "      <td>0.015397</td>\n",
              "      <td>0.020778</td>\n",
              "      <td>97.465609</td>\n",
              "      <td>0.300605</td>\n",
              "      <td>0.259240</td>\n",
              "      <td>0.040726</td>\n",
              "    </tr>\n",
              "    <tr>\n",
              "      <th>9</th>\n",
              "      <td>linear</td>\n",
              "      <td>0.010</td>\n",
              "      <td>10.0</td>\n",
              "      <td>0.373592</td>\n",
              "      <td>0.329567</td>\n",
              "      <td>0.014165</td>\n",
              "      <td>0.022917</td>\n",
              "      <td>97.478121</td>\n",
              "      <td>0.301774</td>\n",
              "      <td>0.257437</td>\n",
              "      <td>0.044025</td>\n",
              "    </tr>\n",
              "    <tr>\n",
              "      <th>10</th>\n",
              "      <td>rbf</td>\n",
              "      <td>0.001</td>\n",
              "      <td>0.1</td>\n",
              "      <td>0.143894</td>\n",
              "      <td>0.143301</td>\n",
              "      <td>0.000798</td>\n",
              "      <td>0.000444</td>\n",
              "      <td>100.000000</td>\n",
              "      <td>0.011146</td>\n",
              "      <td>0.004966</td>\n",
              "      <td>0.000593</td>\n",
              "    </tr>\n",
              "    <tr>\n",
              "      <th>11</th>\n",
              "      <td>rbf</td>\n",
              "      <td>0.001</td>\n",
              "      <td>1.0</td>\n",
              "      <td>0.233368</td>\n",
              "      <td>0.225849</td>\n",
              "      <td>0.006022</td>\n",
              "      <td>0.016645</td>\n",
              "      <td>99.775281</td>\n",
              "      <td>0.200402</td>\n",
              "      <td>0.184067</td>\n",
              "      <td>0.007519</td>\n",
              "    </tr>\n",
              "    <tr>\n",
              "      <th>12</th>\n",
              "      <td>rbf</td>\n",
              "      <td>0.001</td>\n",
              "      <td>2.0</td>\n",
              "      <td>0.257447</td>\n",
              "      <td>0.242071</td>\n",
              "      <td>0.008344</td>\n",
              "      <td>0.013917</td>\n",
              "      <td>99.338330</td>\n",
              "      <td>0.225240</td>\n",
              "      <td>0.200044</td>\n",
              "      <td>0.015376</td>\n",
              "    </tr>\n",
              "    <tr>\n",
              "      <th>13</th>\n",
              "      <td>rbf</td>\n",
              "      <td>0.001</td>\n",
              "      <td>5.0</td>\n",
              "      <td>0.290744</td>\n",
              "      <td>0.275491</td>\n",
              "      <td>0.002530</td>\n",
              "      <td>0.023028</td>\n",
              "      <td>98.676629</td>\n",
              "      <td>0.252063</td>\n",
              "      <td>0.225634</td>\n",
              "      <td>0.015253</td>\n",
              "    </tr>\n",
              "    <tr>\n",
              "      <th>14</th>\n",
              "      <td>rbf</td>\n",
              "      <td>0.001</td>\n",
              "      <td>10.0</td>\n",
              "      <td>0.314011</td>\n",
              "      <td>0.293490</td>\n",
              "      <td>0.007825</td>\n",
              "      <td>0.016503</td>\n",
              "      <td>98.364516</td>\n",
              "      <td>0.270289</td>\n",
              "      <td>0.238917</td>\n",
              "      <td>0.020521</td>\n",
              "    </tr>\n",
              "    <tr>\n",
              "      <th>15</th>\n",
              "      <td>rbf</td>\n",
              "      <td>0.010</td>\n",
              "      <td>0.1</td>\n",
              "      <td>0.227650</td>\n",
              "      <td>0.220411</td>\n",
              "      <td>0.005116</td>\n",
              "      <td>0.016096</td>\n",
              "      <td>99.937575</td>\n",
              "      <td>0.193093</td>\n",
              "      <td>0.176710</td>\n",
              "      <td>0.007239</td>\n",
              "    </tr>\n",
              "    <tr>\n",
              "      <th>16</th>\n",
              "      <td>rbf</td>\n",
              "      <td>0.010</td>\n",
              "      <td>1.0</td>\n",
              "      <td>0.319888</td>\n",
              "      <td>0.290699</td>\n",
              "      <td>0.005342</td>\n",
              "      <td>0.031784</td>\n",
              "      <td>98.526854</td>\n",
              "      <td>0.283581</td>\n",
              "      <td>0.238304</td>\n",
              "      <td>0.029189</td>\n",
              "    </tr>\n",
              "    <tr>\n",
              "      <th>17</th>\n",
              "      <td>rbf</td>\n",
              "      <td>0.010</td>\n",
              "      <td>2.0</td>\n",
              "      <td>0.352671</td>\n",
              "      <td>0.302196</td>\n",
              "      <td>0.015381</td>\n",
              "      <td>0.021100</td>\n",
              "      <td>98.177278</td>\n",
              "      <td>0.314863</td>\n",
              "      <td>0.245991</td>\n",
              "      <td>0.050476</td>\n",
              "    </tr>\n",
              "    <tr>\n",
              "      <th>18</th>\n",
              "      <td>rbf</td>\n",
              "      <td>0.010</td>\n",
              "      <td>5.0</td>\n",
              "      <td>0.408605</td>\n",
              "      <td>0.315053</td>\n",
              "      <td>0.013304</td>\n",
              "      <td>0.021781</td>\n",
              "      <td>97.590509</td>\n",
              "      <td>0.364626</td>\n",
              "      <td>0.253790</td>\n",
              "      <td>0.093552</td>\n",
              "    </tr>\n",
              "    <tr>\n",
              "      <th>19</th>\n",
              "      <td>rbf</td>\n",
              "      <td>0.010</td>\n",
              "      <td>10.0</td>\n",
              "      <td>0.451410</td>\n",
              "      <td>0.330304</td>\n",
              "      <td>0.015140</td>\n",
              "      <td>0.021773</td>\n",
              "      <td>97.103639</td>\n",
              "      <td>0.394901</td>\n",
              "      <td>0.265796</td>\n",
              "      <td>0.121106</td>\n",
              "    </tr>\n",
              "  </tbody>\n",
              "</table>\n",
              "</div>"
            ],
            "text/plain": [
              "    kernel  gamma  ...  Matthews corrcoef test  resta de accuracy\n",
              "0   linear  0.001  ...                0.256493           0.027912\n",
              "1   linear  0.001  ...                0.258997           0.031555\n",
              "2   linear  0.001  ...                0.256719           0.042987\n",
              "3   linear  0.001  ...                0.259240           0.040726\n",
              "4   linear  0.001  ...                0.257437           0.044025\n",
              "5   linear  0.010  ...                0.256493           0.027912\n",
              "6   linear  0.010  ...                0.258997           0.031555\n",
              "7   linear  0.010  ...                0.256719           0.042987\n",
              "8   linear  0.010  ...                0.259240           0.040726\n",
              "9   linear  0.010  ...                0.257437           0.044025\n",
              "10     rbf  0.001  ...                0.004966           0.000593\n",
              "11     rbf  0.001  ...                0.184067           0.007519\n",
              "12     rbf  0.001  ...                0.200044           0.015376\n",
              "13     rbf  0.001  ...                0.225634           0.015253\n",
              "14     rbf  0.001  ...                0.238917           0.020521\n",
              "15     rbf  0.010  ...                0.176710           0.007239\n",
              "16     rbf  0.010  ...                0.238304           0.029189\n",
              "17     rbf  0.010  ...                0.245991           0.050476\n",
              "18     rbf  0.010  ...                0.253790           0.093552\n",
              "19     rbf  0.010  ...                0.265796           0.121106\n",
              "\n",
              "[20 rows x 11 columns]"
            ]
          },
          "metadata": {},
          "execution_count": 116
        }
      ]
    },
    {
      "cell_type": "markdown",
      "metadata": {
        "id": "vL4SlTJuEvTy"
      },
      "source": [
        "###Evaluación con los mejores hiperparametros\n"
      ]
    },
    {
      "cell_type": "code",
      "metadata": {
        "id": "FgGd7MQsADRJ"
      },
      "source": [
        "def tablaResultados(y_true, y_pred):\n",
        "    resultados = pd.DataFrame()\n",
        "\n",
        "    accuracyVal = []\n",
        "    MatthewsTest =  []\n",
        "          \n",
        "    accuracyVal.append(balanced_accuracy_score( y_true= y_val, y_pred=y_pred))\n",
        "    MatthewsTest.append(matthews_corrcoef( y_true= y_val, y_pred=y_pred))\n",
        "\n",
        "    resultados.loc[0,'Balanced Accuracy test'] =np.mean(accuracyVal)\n",
        "    resultados.loc[0,'Std test'] = np.std(accuracyVal)\n",
        "    resultados.loc[0,'Matthews corrcoef test'] = np.mean(MatthewsTest)\n",
        "    return (resultados)"
      ],
      "execution_count": 34,
      "outputs": []
    },
    {
      "cell_type": "markdown",
      "metadata": {
        "id": "Z-rlydyrG0lq"
      },
      "source": [
        "Discriminante cuadratico"
      ]
    },
    {
      "cell_type": "code",
      "metadata": {
        "id": "1irudX4wE-as",
        "colab": {
          "base_uri": "https://localhost:8080/",
          "height": 80
        },
        "outputId": "a99de9d5-da49-4df6-aae7-ea0d7909bd7b"
      },
      "source": [
        "dc= QuadraticDiscriminantAnalysis(reg_param=1.000\t).fit(X,y)\n",
        "y_val_predict =  dc.predict(X_val)\n",
        "tablaResultados(y_true=y_val,y_pred=y_val_predict)"
      ],
      "execution_count": 27,
      "outputs": [
        {
          "output_type": "execute_result",
          "data": {
            "text/html": [
              "<div>\n",
              "<style scoped>\n",
              "    .dataframe tbody tr th:only-of-type {\n",
              "        vertical-align: middle;\n",
              "    }\n",
              "\n",
              "    .dataframe tbody tr th {\n",
              "        vertical-align: top;\n",
              "    }\n",
              "\n",
              "    .dataframe thead th {\n",
              "        text-align: right;\n",
              "    }\n",
              "</style>\n",
              "<table border=\"1\" class=\"dataframe\">\n",
              "  <thead>\n",
              "    <tr style=\"text-align: right;\">\n",
              "      <th></th>\n",
              "      <th>Balanced Accuracy test</th>\n",
              "      <th>Std test</th>\n",
              "      <th>Matthews corrcoef test</th>\n",
              "    </tr>\n",
              "  </thead>\n",
              "  <tbody>\n",
              "    <tr>\n",
              "      <th>0</th>\n",
              "      <td>0.274676</td>\n",
              "      <td>0.0</td>\n",
              "      <td>0.058958</td>\n",
              "    </tr>\n",
              "  </tbody>\n",
              "</table>\n",
              "</div>"
            ],
            "text/plain": [
              "   Balanced Accuracy test  Std test  Matthews corrcoef test\n",
              "0                0.274676       0.0                0.058958"
            ]
          },
          "metadata": {},
          "execution_count": 27
        }
      ]
    },
    {
      "cell_type": "markdown",
      "metadata": {
        "id": "NQkv_HdiG3pV"
      },
      "source": [
        "Gradient boosting tree"
      ]
    },
    {
      "cell_type": "code",
      "metadata": {
        "id": "s3dANIC2G3dE",
        "colab": {
          "base_uri": "https://localhost:8080/",
          "height": 80
        },
        "outputId": "82561de2-3315-4960-b7eb-3431f271b595"
      },
      "source": [
        "gbt= GradientBoostingClassifier(n_estimators= 10, max_depth=1).fit(X,y)\n",
        "y_val_predict =  gbt.predict(X_val)\n",
        "tablaResultados(y_true=y_val,y_pred=y_val_predict)"
      ],
      "execution_count": 83,
      "outputs": [
        {
          "output_type": "execute_result",
          "data": {
            "text/html": [
              "<div>\n",
              "<style scoped>\n",
              "    .dataframe tbody tr th:only-of-type {\n",
              "        vertical-align: middle;\n",
              "    }\n",
              "\n",
              "    .dataframe tbody tr th {\n",
              "        vertical-align: top;\n",
              "    }\n",
              "\n",
              "    .dataframe thead th {\n",
              "        text-align: right;\n",
              "    }\n",
              "</style>\n",
              "<table border=\"1\" class=\"dataframe\">\n",
              "  <thead>\n",
              "    <tr style=\"text-align: right;\">\n",
              "      <th></th>\n",
              "      <th>Balanced Accuracy test</th>\n",
              "      <th>Std test</th>\n",
              "      <th>Matthews corrcoef test</th>\n",
              "    </tr>\n",
              "  </thead>\n",
              "  <tbody>\n",
              "    <tr>\n",
              "      <th>0</th>\n",
              "      <td>0.280526</td>\n",
              "      <td>0.0</td>\n",
              "      <td>0.196506</td>\n",
              "    </tr>\n",
              "  </tbody>\n",
              "</table>\n",
              "</div>"
            ],
            "text/plain": [
              "   Balanced Accuracy test  Std test  Matthews corrcoef test\n",
              "0                0.280526       0.0                0.196506"
            ]
          },
          "metadata": {},
          "execution_count": 83
        }
      ]
    },
    {
      "cell_type": "markdown",
      "metadata": {
        "id": "8wMQpVMTG6ib"
      },
      "source": [
        "Redes neuronales artificiales"
      ]
    },
    {
      "cell_type": "code",
      "metadata": {
        "id": "PGlZFC7yG3Z7",
        "colab": {
          "base_uri": "https://localhost:8080/",
          "height": 80
        },
        "outputId": "2a758d00-9bf0-4d2d-addc-61ae9174227e"
      },
      "source": [
        "rna = MLPClassifier(activation='logistic',hidden_layer_sizes= tuple(3*[100]), max_iter=1000).fit(X=X,y=y)\n",
        "y_val_predict = rna.predict(X_val)\n",
        "tablaResultados(y_true=y_val,y_pred=y_val_predict)"
      ],
      "execution_count": 39,
      "outputs": [
        {
          "output_type": "execute_result",
          "data": {
            "text/html": [
              "<div>\n",
              "<style scoped>\n",
              "    .dataframe tbody tr th:only-of-type {\n",
              "        vertical-align: middle;\n",
              "    }\n",
              "\n",
              "    .dataframe tbody tr th {\n",
              "        vertical-align: top;\n",
              "    }\n",
              "\n",
              "    .dataframe thead th {\n",
              "        text-align: right;\n",
              "    }\n",
              "</style>\n",
              "<table border=\"1\" class=\"dataframe\">\n",
              "  <thead>\n",
              "    <tr style=\"text-align: right;\">\n",
              "      <th></th>\n",
              "      <th>Balanced Accuracy test</th>\n",
              "      <th>Std test</th>\n",
              "      <th>Matthews corrcoef test</th>\n",
              "    </tr>\n",
              "  </thead>\n",
              "  <tbody>\n",
              "    <tr>\n",
              "      <th>0</th>\n",
              "      <td>0.347663</td>\n",
              "      <td>0.0</td>\n",
              "      <td>0.283631</td>\n",
              "    </tr>\n",
              "  </tbody>\n",
              "</table>\n",
              "</div>"
            ],
            "text/plain": [
              "   Balanced Accuracy test  Std test  Matthews corrcoef test\n",
              "0                0.347663       0.0                0.283631"
            ]
          },
          "metadata": {},
          "execution_count": 39
        }
      ]
    },
    {
      "cell_type": "markdown",
      "metadata": {
        "id": "8_pByXITG8X1"
      },
      "source": [
        "Maquina de soporte vectorial"
      ]
    },
    {
      "cell_type": "code",
      "metadata": {
        "id": "2QrXpOqdG3XZ",
        "colab": {
          "base_uri": "https://localhost:8080/",
          "height": 80
        },
        "outputId": "ca81cc38-e63b-4272-f2b7-25a14da4430b"
      },
      "source": [
        "msv = SVC( kernel= \"linear\" , gamma= 0.01 , C= 2).fit(X=X, y=y)\n",
        "y_val_predict = msv.predict(X=X_val)\n",
        "tablaResultados(y_true=y_val,y_pred=y_val_predict)"
      ],
      "execution_count": 40,
      "outputs": [
        {
          "output_type": "execute_result",
          "data": {
            "text/html": [
              "<div>\n",
              "<style scoped>\n",
              "    .dataframe tbody tr th:only-of-type {\n",
              "        vertical-align: middle;\n",
              "    }\n",
              "\n",
              "    .dataframe tbody tr th {\n",
              "        vertical-align: top;\n",
              "    }\n",
              "\n",
              "    .dataframe thead th {\n",
              "        text-align: right;\n",
              "    }\n",
              "</style>\n",
              "<table border=\"1\" class=\"dataframe\">\n",
              "  <thead>\n",
              "    <tr style=\"text-align: right;\">\n",
              "      <th></th>\n",
              "      <th>Balanced Accuracy test</th>\n",
              "      <th>Std test</th>\n",
              "      <th>Matthews corrcoef test</th>\n",
              "    </tr>\n",
              "  </thead>\n",
              "  <tbody>\n",
              "    <tr>\n",
              "      <th>0</th>\n",
              "      <td>0.320197</td>\n",
              "      <td>0.0</td>\n",
              "      <td>0.272434</td>\n",
              "    </tr>\n",
              "  </tbody>\n",
              "</table>\n",
              "</div>"
            ],
            "text/plain": [
              "   Balanced Accuracy test  Std test  Matthews corrcoef test\n",
              "0                0.320197       0.0                0.272434"
            ]
          },
          "metadata": {},
          "execution_count": 40
        }
      ]
    },
    {
      "cell_type": "markdown",
      "metadata": {
        "id": "dJqRFs-3ZZ0D"
      },
      "source": [
        "#Selección/estracción de características"
      ]
    },
    {
      "cell_type": "markdown",
      "metadata": {
        "id": "9YC7nkpQZg3_"
      },
      "source": [
        "##Análisis de características"
      ]
    },
    {
      "cell_type": "markdown",
      "metadata": {
        "id": "A9q0w1mApscH"
      },
      "source": [
        "###Análisis individual"
      ]
    },
    {
      "cell_type": "code",
      "metadata": {
        "colab": {
          "base_uri": "https://localhost:8080/",
          "height": 640
        },
        "id": "_kGiJyYlp5IW",
        "outputId": "4980c3c0-95fb-4eb9-daee-ef38e530e8f0"
      },
      "source": [
        "corrmat = df.corr()\n",
        "f, ax = plt.subplots(figsize=(12, 9))\n",
        "sns.heatmap(corrmat, vmax=.8, square=True);"
      ],
      "execution_count": 90,
      "outputs": [
        {
          "output_type": "display_data",
          "data": {
            "image/png": "[encoded data removed]",
            "text/plain": [
              "<Figure size 864x648 with 2 Axes>"
            ]
          },
          "metadata": {
            "needs_background": "light"
          }
        }
      ]
    },
    {
      "cell_type": "code",
      "metadata": {
        "id": "XsbLxHYttQI1"
      },
      "source": [
        "dfCorr=(df.drop(['LeagueIndex'],axis=1)).corr()"
      ],
      "execution_count": 102,
      "outputs": []
    },
    {
      "cell_type": "code",
      "metadata": {
        "colab": {
          "base_uri": "https://localhost:8080/",
          "height": 658
        },
        "id": "hDyIL3BDp5Fc",
        "outputId": "4d3709b8-de22-4653-aa0a-69ba56dc7797"
      },
      "source": [
        "dfCorr"
      ],
      "execution_count": 103,
      "outputs": [
        {
          "output_type": "execute_result",
          "data": {
            "text/html": [
              "<div>\n",
              "<style scoped>\n",
              "    .dataframe tbody tr th:only-of-type {\n",
              "        vertical-align: middle;\n",
              "    }\n",
              "\n",
              "    .dataframe tbody tr th {\n",
              "        vertical-align: top;\n",
              "    }\n",
              "\n",
              "    .dataframe thead th {\n",
              "        text-align: right;\n",
              "    }\n",
              "</style>\n",
              "<table border=\"1\" class=\"dataframe\">\n",
              "  <thead>\n",
              "    <tr style=\"text-align: right;\">\n",
              "      <th></th>\n",
              "      <th>GameID</th>\n",
              "      <th>Age</th>\n",
              "      <th>HoursPerWeek</th>\n",
              "      <th>TotalHours</th>\n",
              "      <th>APM</th>\n",
              "      <th>SelectByHotkeys</th>\n",
              "      <th>AssignToHotkeys</th>\n",
              "      <th>UniqueHotkeys</th>\n",
              "      <th>MinimapAttacks</th>\n",
              "      <th>MinimapRightClicks</th>\n",
              "      <th>NumberOfPACs</th>\n",
              "      <th>GapBetweenPACs</th>\n",
              "      <th>ActionLatency</th>\n",
              "      <th>ActionsInPAC</th>\n",
              "      <th>TotalMapExplored</th>\n",
              "      <th>WorkersMade</th>\n",
              "      <th>UniqueUnitsMade</th>\n",
              "      <th>ComplexUnitsMade</th>\n",
              "      <th>ComplexAbilitiesUsed</th>\n",
              "    </tr>\n",
              "  </thead>\n",
              "  <tbody>\n",
              "    <tr>\n",
              "      <th>GameID</th>\n",
              "      <td>1.000000</td>\n",
              "      <td>0.088511</td>\n",
              "      <td>-0.025322</td>\n",
              "      <td>0.004178</td>\n",
              "      <td>0.075944</td>\n",
              "      <td>0.070298</td>\n",
              "      <td>0.063915</td>\n",
              "      <td>0.081176</td>\n",
              "      <td>0.022422</td>\n",
              "      <td>0.009898</td>\n",
              "      <td>0.035622</td>\n",
              "      <td>-0.065629</td>\n",
              "      <td>-0.042711</td>\n",
              "      <td>0.039482</td>\n",
              "      <td>0.030894</td>\n",
              "      <td>-0.015191</td>\n",
              "      <td>0.029487</td>\n",
              "      <td>-0.018056</td>\n",
              "      <td>0.004051</td>\n",
              "    </tr>\n",
              "    <tr>\n",
              "      <th>Age</th>\n",
              "      <td>0.088511</td>\n",
              "      <td>1.000000</td>\n",
              "      <td>-0.184431</td>\n",
              "      <td>-0.016630</td>\n",
              "      <td>-0.210724</td>\n",
              "      <td>-0.131105</td>\n",
              "      <td>-0.104960</td>\n",
              "      <td>0.015119</td>\n",
              "      <td>0.043100</td>\n",
              "      <td>-0.019904</td>\n",
              "      <td>-0.197128</td>\n",
              "      <td>0.112106</td>\n",
              "      <td>0.240240</td>\n",
              "      <td>-0.045893</td>\n",
              "      <td>-0.024191</td>\n",
              "      <td>-0.092291</td>\n",
              "      <td>0.022893</td>\n",
              "      <td>-0.080269</td>\n",
              "      <td>-0.065603</td>\n",
              "    </tr>\n",
              "    <tr>\n",
              "      <th>HoursPerWeek</th>\n",
              "      <td>-0.025322</td>\n",
              "      <td>-0.184431</td>\n",
              "      <td>1.000000</td>\n",
              "      <td>0.024306</td>\n",
              "      <td>0.246897</td>\n",
              "      <td>0.205792</td>\n",
              "      <td>0.158316</td>\n",
              "      <td>0.070262</td>\n",
              "      <td>0.084103</td>\n",
              "      <td>0.049498</td>\n",
              "      <td>0.174871</td>\n",
              "      <td>-0.133838</td>\n",
              "      <td>-0.188735</td>\n",
              "      <td>0.095271</td>\n",
              "      <td>0.064896</td>\n",
              "      <td>0.050679</td>\n",
              "      <td>0.038524</td>\n",
              "      <td>0.059285</td>\n",
              "      <td>0.074713</td>\n",
              "    </tr>\n",
              "    <tr>\n",
              "      <th>TotalHours</th>\n",
              "      <td>0.004178</td>\n",
              "      <td>-0.016630</td>\n",
              "      <td>0.024306</td>\n",
              "      <td>1.000000</td>\n",
              "      <td>0.072850</td>\n",
              "      <td>0.081830</td>\n",
              "      <td>0.042415</td>\n",
              "      <td>0.009318</td>\n",
              "      <td>0.000869</td>\n",
              "      <td>0.007662</td>\n",
              "      <td>0.039577</td>\n",
              "      <td>-0.020644</td>\n",
              "      <td>-0.035700</td>\n",
              "      <td>0.010704</td>\n",
              "      <td>0.020486</td>\n",
              "      <td>0.014828</td>\n",
              "      <td>-0.002379</td>\n",
              "      <td>-0.007154</td>\n",
              "      <td>-0.006311</td>\n",
              "    </tr>\n",
              "    <tr>\n",
              "      <th>APM</th>\n",
              "      <td>0.075944</td>\n",
              "      <td>-0.210724</td>\n",
              "      <td>0.246897</td>\n",
              "      <td>0.072850</td>\n",
              "      <td>1.000000</td>\n",
              "      <td>0.814624</td>\n",
              "      <td>0.534134</td>\n",
              "      <td>0.335986</td>\n",
              "      <td>0.218562</td>\n",
              "      <td>0.306392</td>\n",
              "      <td>0.635248</td>\n",
              "      <td>-0.567396</td>\n",
              "      <td>-0.722253</td>\n",
              "      <td>0.402928</td>\n",
              "      <td>0.239336</td>\n",
              "      <td>0.377719</td>\n",
              "      <td>0.122916</td>\n",
              "      <td>0.161774</td>\n",
              "      <td>0.141060</td>\n",
              "    </tr>\n",
              "    <tr>\n",
              "      <th>SelectByHotkeys</th>\n",
              "      <td>0.070298</td>\n",
              "      <td>-0.131105</td>\n",
              "      <td>0.205792</td>\n",
              "      <td>0.081830</td>\n",
              "      <td>0.814624</td>\n",
              "      <td>1.000000</td>\n",
              "      <td>0.450342</td>\n",
              "      <td>0.274030</td>\n",
              "      <td>0.132723</td>\n",
              "      <td>0.107615</td>\n",
              "      <td>0.360057</td>\n",
              "      <td>-0.273767</td>\n",
              "      <td>-0.390012</td>\n",
              "      <td>0.166964</td>\n",
              "      <td>0.097397</td>\n",
              "      <td>0.161404</td>\n",
              "      <td>0.027628</td>\n",
              "      <td>0.065467</td>\n",
              "      <td>0.063720</td>\n",
              "    </tr>\n",
              "    <tr>\n",
              "      <th>AssignToHotkeys</th>\n",
              "      <td>0.063915</td>\n",
              "      <td>-0.104960</td>\n",
              "      <td>0.158316</td>\n",
              "      <td>0.042415</td>\n",
              "      <td>0.534134</td>\n",
              "      <td>0.450342</td>\n",
              "      <td>1.000000</td>\n",
              "      <td>0.402555</td>\n",
              "      <td>0.205436</td>\n",
              "      <td>0.154998</td>\n",
              "      <td>0.454480</td>\n",
              "      <td>-0.377926</td>\n",
              "      <td>-0.461496</td>\n",
              "      <td>0.091508</td>\n",
              "      <td>0.201862</td>\n",
              "      <td>0.197011</td>\n",
              "      <td>0.149329</td>\n",
              "      <td>0.169849</td>\n",
              "      <td>0.169048</td>\n",
              "    </tr>\n",
              "    <tr>\n",
              "      <th>UniqueHotkeys</th>\n",
              "      <td>0.081176</td>\n",
              "      <td>0.015119</td>\n",
              "      <td>0.070262</td>\n",
              "      <td>0.009318</td>\n",
              "      <td>0.335986</td>\n",
              "      <td>0.274030</td>\n",
              "      <td>0.402555</td>\n",
              "      <td>1.000000</td>\n",
              "      <td>0.151029</td>\n",
              "      <td>0.124570</td>\n",
              "      <td>0.353112</td>\n",
              "      <td>-0.223745</td>\n",
              "      <td>-0.304583</td>\n",
              "      <td>-0.022227</td>\n",
              "      <td>0.267940</td>\n",
              "      <td>0.111319</td>\n",
              "      <td>0.233274</td>\n",
              "      <td>0.122352</td>\n",
              "      <td>0.110004</td>\n",
              "    </tr>\n",
              "    <tr>\n",
              "      <th>MinimapAttacks</th>\n",
              "      <td>0.022422</td>\n",
              "      <td>0.043100</td>\n",
              "      <td>0.084103</td>\n",
              "      <td>0.000869</td>\n",
              "      <td>0.218562</td>\n",
              "      <td>0.132723</td>\n",
              "      <td>0.205436</td>\n",
              "      <td>0.151029</td>\n",
              "      <td>1.000000</td>\n",
              "      <td>0.224683</td>\n",
              "      <td>0.137745</td>\n",
              "      <td>-0.213330</td>\n",
              "      <td>-0.171464</td>\n",
              "      <td>0.133712</td>\n",
              "      <td>0.164110</td>\n",
              "      <td>0.082283</td>\n",
              "      <td>0.125035</td>\n",
              "      <td>0.052225</td>\n",
              "      <td>0.042265</td>\n",
              "    </tr>\n",
              "    <tr>\n",
              "      <th>MinimapRightClicks</th>\n",
              "      <td>0.009898</td>\n",
              "      <td>-0.019904</td>\n",
              "      <td>0.049498</td>\n",
              "      <td>0.007662</td>\n",
              "      <td>0.306392</td>\n",
              "      <td>0.107615</td>\n",
              "      <td>0.154998</td>\n",
              "      <td>0.124570</td>\n",
              "      <td>0.224683</td>\n",
              "      <td>1.000000</td>\n",
              "      <td>0.143538</td>\n",
              "      <td>-0.244542</td>\n",
              "      <td>-0.216644</td>\n",
              "      <td>0.323707</td>\n",
              "      <td>0.173514</td>\n",
              "      <td>0.212464</td>\n",
              "      <td>0.154447</td>\n",
              "      <td>0.097992</td>\n",
              "      <td>0.095659</td>\n",
              "    </tr>\n",
              "    <tr>\n",
              "      <th>NumberOfPACs</th>\n",
              "      <td>0.035622</td>\n",
              "      <td>-0.197128</td>\n",
              "      <td>0.174871</td>\n",
              "      <td>0.039577</td>\n",
              "      <td>0.635248</td>\n",
              "      <td>0.360057</td>\n",
              "      <td>0.454480</td>\n",
              "      <td>0.353112</td>\n",
              "      <td>0.137745</td>\n",
              "      <td>0.143538</td>\n",
              "      <td>1.000000</td>\n",
              "      <td>-0.491407</td>\n",
              "      <td>-0.817162</td>\n",
              "      <td>-0.242571</td>\n",
              "      <td>0.470955</td>\n",
              "      <td>0.282204</td>\n",
              "      <td>0.322181</td>\n",
              "      <td>0.196269</td>\n",
              "      <td>0.177696</td>\n",
              "    </tr>\n",
              "    <tr>\n",
              "      <th>GapBetweenPACs</th>\n",
              "      <td>-0.065629</td>\n",
              "      <td>0.112106</td>\n",
              "      <td>-0.133838</td>\n",
              "      <td>-0.020644</td>\n",
              "      <td>-0.567396</td>\n",
              "      <td>-0.273767</td>\n",
              "      <td>-0.377926</td>\n",
              "      <td>-0.223745</td>\n",
              "      <td>-0.213330</td>\n",
              "      <td>-0.244542</td>\n",
              "      <td>-0.491407</td>\n",
              "      <td>1.000000</td>\n",
              "      <td>0.680483</td>\n",
              "      <td>-0.310242</td>\n",
              "      <td>-0.094693</td>\n",
              "      <td>-0.237157</td>\n",
              "      <td>-0.089708</td>\n",
              "      <td>-0.082924</td>\n",
              "      <td>-0.092005</td>\n",
              "    </tr>\n",
              "    <tr>\n",
              "      <th>ActionLatency</th>\n",
              "      <td>-0.042711</td>\n",
              "      <td>0.240240</td>\n",
              "      <td>-0.188735</td>\n",
              "      <td>-0.035700</td>\n",
              "      <td>-0.722253</td>\n",
              "      <td>-0.390012</td>\n",
              "      <td>-0.461496</td>\n",
              "      <td>-0.304583</td>\n",
              "      <td>-0.171464</td>\n",
              "      <td>-0.216644</td>\n",
              "      <td>-0.817162</td>\n",
              "      <td>0.680483</td>\n",
              "      <td>1.000000</td>\n",
              "      <td>-0.106505</td>\n",
              "      <td>-0.349350</td>\n",
              "      <td>-0.313692</td>\n",
              "      <td>-0.223191</td>\n",
              "      <td>-0.198054</td>\n",
              "      <td>-0.189681</td>\n",
              "    </tr>\n",
              "    <tr>\n",
              "      <th>ActionsInPAC</th>\n",
              "      <td>0.039482</td>\n",
              "      <td>-0.045893</td>\n",
              "      <td>0.095271</td>\n",
              "      <td>0.010704</td>\n",
              "      <td>0.402928</td>\n",
              "      <td>0.166964</td>\n",
              "      <td>0.091508</td>\n",
              "      <td>-0.022227</td>\n",
              "      <td>0.133712</td>\n",
              "      <td>0.323707</td>\n",
              "      <td>-0.242571</td>\n",
              "      <td>-0.310242</td>\n",
              "      <td>-0.106505</td>\n",
              "      <td>1.000000</td>\n",
              "      <td>-0.156688</td>\n",
              "      <td>0.253734</td>\n",
              "      <td>-0.134873</td>\n",
              "      <td>0.054312</td>\n",
              "      <td>0.053406</td>\n",
              "    </tr>\n",
              "    <tr>\n",
              "      <th>TotalMapExplored</th>\n",
              "      <td>0.030894</td>\n",
              "      <td>-0.024191</td>\n",
              "      <td>0.064896</td>\n",
              "      <td>0.020486</td>\n",
              "      <td>0.239336</td>\n",
              "      <td>0.097397</td>\n",
              "      <td>0.201862</td>\n",
              "      <td>0.267940</td>\n",
              "      <td>0.164110</td>\n",
              "      <td>0.173514</td>\n",
              "      <td>0.470955</td>\n",
              "      <td>-0.094693</td>\n",
              "      <td>-0.349350</td>\n",
              "      <td>-0.156688</td>\n",
              "      <td>1.000000</td>\n",
              "      <td>0.131511</td>\n",
              "      <td>0.575231</td>\n",
              "      <td>0.309039</td>\n",
              "      <td>0.251355</td>\n",
              "    </tr>\n",
              "    <tr>\n",
              "      <th>WorkersMade</th>\n",
              "      <td>-0.015191</td>\n",
              "      <td>-0.092291</td>\n",
              "      <td>0.050679</td>\n",
              "      <td>0.014828</td>\n",
              "      <td>0.377719</td>\n",
              "      <td>0.161404</td>\n",
              "      <td>0.197011</td>\n",
              "      <td>0.111319</td>\n",
              "      <td>0.082283</td>\n",
              "      <td>0.212464</td>\n",
              "      <td>0.282204</td>\n",
              "      <td>-0.237157</td>\n",
              "      <td>-0.313692</td>\n",
              "      <td>0.253734</td>\n",
              "      <td>0.131511</td>\n",
              "      <td>1.000000</td>\n",
              "      <td>0.112389</td>\n",
              "      <td>0.203270</td>\n",
              "      <td>0.104955</td>\n",
              "    </tr>\n",
              "    <tr>\n",
              "      <th>UniqueUnitsMade</th>\n",
              "      <td>0.029487</td>\n",
              "      <td>0.022893</td>\n",
              "      <td>0.038524</td>\n",
              "      <td>-0.002379</td>\n",
              "      <td>0.122916</td>\n",
              "      <td>0.027628</td>\n",
              "      <td>0.149329</td>\n",
              "      <td>0.233274</td>\n",
              "      <td>0.125035</td>\n",
              "      <td>0.154447</td>\n",
              "      <td>0.322181</td>\n",
              "      <td>-0.089708</td>\n",
              "      <td>-0.223191</td>\n",
              "      <td>-0.134873</td>\n",
              "      <td>0.575231</td>\n",
              "      <td>0.112389</td>\n",
              "      <td>1.000000</td>\n",
              "      <td>0.382217</td>\n",
              "      <td>0.294409</td>\n",
              "    </tr>\n",
              "    <tr>\n",
              "      <th>ComplexUnitsMade</th>\n",
              "      <td>-0.018056</td>\n",
              "      <td>-0.080269</td>\n",
              "      <td>0.059285</td>\n",
              "      <td>-0.007154</td>\n",
              "      <td>0.161774</td>\n",
              "      <td>0.065467</td>\n",
              "      <td>0.169849</td>\n",
              "      <td>0.122352</td>\n",
              "      <td>0.052225</td>\n",
              "      <td>0.097992</td>\n",
              "      <td>0.196269</td>\n",
              "      <td>-0.082924</td>\n",
              "      <td>-0.198054</td>\n",
              "      <td>0.054312</td>\n",
              "      <td>0.309039</td>\n",
              "      <td>0.203270</td>\n",
              "      <td>0.382217</td>\n",
              "      <td>1.000000</td>\n",
              "      <td>0.620551</td>\n",
              "    </tr>\n",
              "    <tr>\n",
              "      <th>ComplexAbilitiesUsed</th>\n",
              "      <td>0.004051</td>\n",
              "      <td>-0.065603</td>\n",
              "      <td>0.074713</td>\n",
              "      <td>-0.006311</td>\n",
              "      <td>0.141060</td>\n",
              "      <td>0.063720</td>\n",
              "      <td>0.169048</td>\n",
              "      <td>0.110004</td>\n",
              "      <td>0.042265</td>\n",
              "      <td>0.095659</td>\n",
              "      <td>0.177696</td>\n",
              "      <td>-0.092005</td>\n",
              "      <td>-0.189681</td>\n",
              "      <td>0.053406</td>\n",
              "      <td>0.251355</td>\n",
              "      <td>0.104955</td>\n",
              "      <td>0.294409</td>\n",
              "      <td>0.620551</td>\n",
              "      <td>1.000000</td>\n",
              "    </tr>\n",
              "  </tbody>\n",
              "</table>\n",
              "</div>"
            ],
            "text/plain": [
              "                        GameID  ...  ComplexAbilitiesUsed\n",
              "GameID                1.000000  ...              0.004051\n",
              "Age                   0.088511  ...             -0.065603\n",
              "HoursPerWeek         -0.025322  ...              0.074713\n",
              "TotalHours            0.004178  ...             -0.006311\n",
              "APM                   0.075944  ...              0.141060\n",
              "SelectByHotkeys       0.070298  ...              0.063720\n",
              "AssignToHotkeys       0.063915  ...              0.169048\n",
              "UniqueHotkeys         0.081176  ...              0.110004\n",
              "MinimapAttacks        0.022422  ...              0.042265\n",
              "MinimapRightClicks    0.009898  ...              0.095659\n",
              "NumberOfPACs          0.035622  ...              0.177696\n",
              "GapBetweenPACs       -0.065629  ...             -0.092005\n",
              "ActionLatency        -0.042711  ...             -0.189681\n",
              "ActionsInPAC          0.039482  ...              0.053406\n",
              "TotalMapExplored      0.030894  ...              0.251355\n",
              "WorkersMade          -0.015191  ...              0.104955\n",
              "UniqueUnitsMade       0.029487  ...              0.294409\n",
              "ComplexUnitsMade     -0.018056  ...              0.620551\n",
              "ComplexAbilitiesUsed  0.004051  ...              1.000000\n",
              "\n",
              "[19 rows x 19 columns]"
            ]
          },
          "metadata": {},
          "execution_count": 103
        }
      ]
    },
    {
      "cell_type": "code",
      "metadata": {
        "id": "hzkxIUbYp5DV"
      },
      "source": [
        "def EncontrarCorrelacionDe(dfCorre,umbral):\n",
        "  for i in range(0,dfCorre.shape[0]):\n",
        "    if sum(dfCorre.iloc[i]>umbral)+sum(dfCorre.iloc[i]<-umbral)>=2:\n",
        "      print(dfCorre.iloc[i].name)\n",
        "      return \n",
        "  print(\"No existen pares de caracteristicas con ese valor  de correlacion\")\n",
        "  return "
      ],
      "execution_count": 104,
      "outputs": []
    },
    {
      "cell_type": "code",
      "metadata": {
        "colab": {
          "base_uri": "https://localhost:8080/"
        },
        "id": "-MJXkj2Np5BL",
        "outputId": "b52b705b-4409-47ae-de96-ee88e5bcea93"
      },
      "source": [
        "EncontrarCorrelacionDe(dfCorr,0.9)"
      ],
      "execution_count": 148,
      "outputs": [
        {
          "output_type": "stream",
          "name": "stdout",
          "text": [
            "No existen pares de caracteristicas con ese valor  de correlacion\n"
          ]
        }
      ]
    },
    {
      "cell_type": "code",
      "metadata": {
        "colab": {
          "base_uri": "https://localhost:8080/"
        },
        "id": "h44ZKW1t9awZ",
        "outputId": "95d7e760-e930-4ad5-9524-06985ba3807f"
      },
      "source": [
        "EncontrarCorrelacionDe(dfCorr,0.8)"
      ],
      "execution_count": 115,
      "outputs": [
        {
          "output_type": "stream",
          "name": "stdout",
          "text": [
            "APM\n"
          ]
        }
      ]
    },
    {
      "cell_type": "markdown",
      "metadata": {
        "id": "GPG4RUb4p01k"
      },
      "source": [
        "###Indice de Fisher"
      ]
    },
    {
      "cell_type": "code",
      "metadata": {
        "id": "pCFe8jb9p0nn"
      },
      "source": [
        "def IndiceFisher(X, plot=True):\n",
        "  C = X.shape[1]\n",
        "  indexes =np.zeros(X.shape[1])\n",
        "  j = 0\n",
        "  for i in range(C):\n",
        "    if_j = 0\n",
        "    for k in range(C):\n",
        "      if i == k:\n",
        "        continue\n",
        "      XA = X\n",
        "      scaler = MinMaxScaler() #Escala entre 0 y 1\n",
        "      X = scaler.fit_transform(XA)\n",
        "      mean_i = np.mean(X[:,i])\n",
        "      mean_k = np.mean(X[:,k])\n",
        "      std_i = np.std(X[:,i])\n",
        "      std_k = np.std(X[:,k])\n",
        "\n",
        "      if_j += ((mean_i - mean_k)**2 )/(std_i**2 + std_k**2)\n",
        "    indexes[j] = if_j\n",
        "    j += 1\n",
        "\n",
        "  indexes = indexes / np.max(indexes)\n",
        "  \n",
        "  if plot == True:\n",
        "    x = np.array(np.linspace(0, C, C))\n",
        "    y = indexes\n",
        "    plt.stem(x, y)\n",
        "    plt.xlabel('Variables')\n",
        "    plt.ylabel('Índice de fisher')\n",
        "    plt.show()    \n",
        "  return indexes"
      ],
      "execution_count": 156,
      "outputs": []
    },
    {
      "cell_type": "code",
      "metadata": {
        "colab": {
          "base_uri": "https://localhost:8080/",
          "height": 296
        },
        "id": "PjHsnARYtkEZ",
        "outputId": "7537cfe7-f1b1-4cb3-ac61-b25d1f3e4284"
      },
      "source": [
        "df.columns[np.argpartition(IndiceFisher(X),3)[:3]]"
      ],
      "execution_count": 155,
      "outputs": [
        {
          "output_type": "display_data",
          "data": {
            "image/png": "[encoded data removed]",
            "text/plain": [
              "<Figure size 432x288 with 1 Axes>"
            ]
          },
          "metadata": {
            "needs_background": "light"
          }
        },
        {
          "output_type": "execute_result",
          "data": {
            "text/plain": [
              "Index(['GameID', 'APM', 'ActionsInPAC'], dtype='object')"
            ]
          },
          "metadata": {},
          "execution_count": 155
        }
      ]
    },
    {
      "cell_type": "markdown",
      "metadata": {
        "id": "UBqSRhCvZjuV"
      },
      "source": [
        "##Selección de características"
      ]
    },
    {
      "cell_type": "markdown",
      "metadata": {
        "id": "nCQRWK2TtvsX"
      },
      "source": [
        "###Busqueda secuencial hacia adelante"
      ]
    },
    {
      "cell_type": "code",
      "metadata": {
        "id": "vSrHwmFZttDK"
      },
      "source": [
        "def BusquedaSecuencialHaciaAdelante(X,Y,num_ft):\n",
        "  estimator= MLPClassifier(activation='logistic',hidden_layer_sizes= tuple(3*[100]), max_iter=1000)\n",
        "  BSA = SFS(estimator, \n",
        "            k_features=num_ft, \n",
        "            forward=True, \n",
        "            floating=False, \n",
        "            verbose=2,\n",
        "            scoring='accuracy',\n",
        "            cv=0)\n",
        "  BSA = BSA.fit(X, y)\n",
        "  return BSA  "
      ],
      "execution_count": 158,
      "outputs": []
    },
    {
      "cell_type": "code",
      "metadata": {
        "id": "cwlAnGEFVRBv",
        "colab": {
          "base_uri": "https://localhost:8080/"
        },
        "outputId": "5eb9e5e6-513f-4b84-812c-d0f969aad09a"
      },
      "source": [
        "BSA=BusquedaSecuencialHaciaAdelante(X,y,X.shape[1])"
      ],
      "execution_count": 131,
      "outputs": [
        {
          "output_type": "stream",
          "name": "stderr",
          "text": [
            "[Parallel(n_jobs=1)]: Using backend SequentialBackend with 1 concurrent workers.\n",
            "[Parallel(n_jobs=1)]: Done   1 out of   1 | elapsed:   11.6s remaining:    0.0s\n",
            "[Parallel(n_jobs=1)]: Done  18 out of  18 | elapsed:  1.1min finished\n",
            "\n",
            "[2021-10-12 00:55:30] Features: 1/18 -- score: 0.37378277153558054[Parallel(n_jobs=1)]: Using backend SequentialBackend with 1 concurrent workers.\n",
            "[Parallel(n_jobs=1)]: Done   1 out of   1 | elapsed:    6.3s remaining:    0.0s\n",
            "[Parallel(n_jobs=1)]: Done  17 out of  17 | elapsed:  1.6min finished\n",
            "\n",
            "[2021-10-12 00:57:04] Features: 2/18 -- score: 0.3940074906367041[Parallel(n_jobs=1)]: Using backend SequentialBackend with 1 concurrent workers.\n",
            "[Parallel(n_jobs=1)]: Done   1 out of   1 | elapsed:    4.7s remaining:    0.0s\n",
            "[Parallel(n_jobs=1)]: Done  16 out of  16 | elapsed:  1.4min finished\n",
            "\n",
            "[2021-10-12 00:58:30] Features: 3/18 -- score: 0.4101123595505618[Parallel(n_jobs=1)]: Using backend SequentialBackend with 1 concurrent workers.\n",
            "[Parallel(n_jobs=1)]: Done   1 out of   1 | elapsed:    5.5s remaining:    0.0s\n",
            "[Parallel(n_jobs=1)]: Done  15 out of  15 | elapsed:  1.5min finished\n",
            "\n",
            "[2021-10-12 01:00:00] Features: 4/18 -- score: 0.4142322097378277[Parallel(n_jobs=1)]: Using backend SequentialBackend with 1 concurrent workers.\n",
            "[Parallel(n_jobs=1)]: Done   1 out of   1 | elapsed:    6.3s remaining:    0.0s\n",
            "[Parallel(n_jobs=1)]: Done  14 out of  14 | elapsed:  1.4min finished\n",
            "\n",
            "[2021-10-12 01:01:25] Features: 5/18 -- score: 0.4205992509363296[Parallel(n_jobs=1)]: Using backend SequentialBackend with 1 concurrent workers.\n",
            "[Parallel(n_jobs=1)]: Done   1 out of   1 | elapsed:    5.4s remaining:    0.0s\n",
            "[Parallel(n_jobs=1)]: Done  13 out of  13 | elapsed:  1.4min finished\n",
            "\n",
            "[2021-10-12 01:02:49] Features: 6/18 -- score: 0.42846441947565544[Parallel(n_jobs=1)]: Using backend SequentialBackend with 1 concurrent workers.\n",
            "[Parallel(n_jobs=1)]: Done   1 out of   1 | elapsed:    9.9s remaining:    0.0s\n",
            "[Parallel(n_jobs=1)]: Done  12 out of  12 | elapsed:  1.5min finished\n",
            "\n",
            "[2021-10-12 01:04:20] Features: 7/18 -- score: 0.4314606741573034[Parallel(n_jobs=1)]: Using backend SequentialBackend with 1 concurrent workers.\n",
            "[Parallel(n_jobs=1)]: Done   1 out of   1 | elapsed:   16.7s remaining:    0.0s\n",
            "[Parallel(n_jobs=1)]: Done  11 out of  11 | elapsed:  1.6min finished\n",
            "\n",
            "[2021-10-12 01:05:56] Features: 8/18 -- score: 0.43820224719101125[Parallel(n_jobs=1)]: Using backend SequentialBackend with 1 concurrent workers.\n",
            "[Parallel(n_jobs=1)]: Done   1 out of   1 | elapsed:    6.3s remaining:    0.0s\n",
            "[Parallel(n_jobs=1)]: Done  10 out of  10 | elapsed:  1.2min finished\n",
            "\n",
            "[2021-10-12 01:07:10] Features: 9/18 -- score: 0.4389513108614232[Parallel(n_jobs=1)]: Using backend SequentialBackend with 1 concurrent workers.\n",
            "[Parallel(n_jobs=1)]: Done   1 out of   1 | elapsed:    6.4s remaining:    0.0s\n",
            "[Parallel(n_jobs=1)]: Done   9 out of   9 | elapsed:  1.3min finished\n",
            "\n",
            "[2021-10-12 01:08:28] Features: 10/18 -- score: 0.448689138576779[Parallel(n_jobs=1)]: Using backend SequentialBackend with 1 concurrent workers.\n",
            "[Parallel(n_jobs=1)]: Done   1 out of   1 | elapsed:    9.1s remaining:    0.0s\n",
            "[Parallel(n_jobs=1)]: Done   8 out of   8 | elapsed:  1.4min finished\n",
            "\n",
            "[2021-10-12 01:09:50] Features: 11/18 -- score: 0.4696629213483146[Parallel(n_jobs=1)]: Using backend SequentialBackend with 1 concurrent workers.\n",
            "[Parallel(n_jobs=1)]: Done   1 out of   1 | elapsed:   10.1s remaining:    0.0s\n",
            "[Parallel(n_jobs=1)]: Done   7 out of   7 | elapsed:  1.1min finished\n",
            "\n",
            "[2021-10-12 01:10:55] Features: 12/18 -- score: 0.44644194756554306[Parallel(n_jobs=1)]: Using backend SequentialBackend with 1 concurrent workers.\n",
            "[Parallel(n_jobs=1)]: Done   1 out of   1 | elapsed:    6.2s remaining:    0.0s\n",
            "[Parallel(n_jobs=1)]: Done   6 out of   6 | elapsed:   54.2s finished\n",
            "\n",
            "[2021-10-12 01:11:49] Features: 13/18 -- score: 0.44269662921348313[Parallel(n_jobs=1)]: Using backend SequentialBackend with 1 concurrent workers.\n",
            "[Parallel(n_jobs=1)]: Done   1 out of   1 | elapsed:   11.7s remaining:    0.0s\n",
            "[Parallel(n_jobs=1)]: Done   5 out of   5 | elapsed:   51.1s finished\n",
            "\n",
            "[2021-10-12 01:12:40] Features: 14/18 -- score: 0.449063670411985[Parallel(n_jobs=1)]: Using backend SequentialBackend with 1 concurrent workers.\n",
            "[Parallel(n_jobs=1)]: Done   1 out of   1 | elapsed:    7.1s remaining:    0.0s\n",
            "[Parallel(n_jobs=1)]: Done   4 out of   4 | elapsed:   35.1s finished\n",
            "\n",
            "[2021-10-12 01:13:15] Features: 15/18 -- score: 0.43595505617977526[Parallel(n_jobs=1)]: Using backend SequentialBackend with 1 concurrent workers.\n",
            "[Parallel(n_jobs=1)]: Done   1 out of   1 | elapsed:   12.7s remaining:    0.0s\n",
            "[Parallel(n_jobs=1)]: Done   3 out of   3 | elapsed:   31.1s finished\n",
            "\n",
            "[2021-10-12 01:13:46] Features: 16/18 -- score: 0.4411985018726592[Parallel(n_jobs=1)]: Using backend SequentialBackend with 1 concurrent workers.\n",
            "[Parallel(n_jobs=1)]: Done   1 out of   1 | elapsed:   21.0s remaining:    0.0s\n",
            "[Parallel(n_jobs=1)]: Done   2 out of   2 | elapsed:   39.2s finished\n",
            "\n",
            "[2021-10-12 01:14:25] Features: 17/18 -- score: 0.4779026217228464[Parallel(n_jobs=1)]: Using backend SequentialBackend with 1 concurrent workers.\n",
            "[Parallel(n_jobs=1)]: Done   1 out of   1 | elapsed:   12.1s remaining:    0.0s\n",
            "[Parallel(n_jobs=1)]: Done   1 out of   1 | elapsed:   12.1s finished\n",
            "\n",
            "[2021-10-12 01:14:37] Features: 18/18 -- score: 0.45280898876404496"
          ]
        }
      ]
    },
    {
      "cell_type": "code",
      "metadata": {
        "id": "fYkY7iUPuemR",
        "colab": {
          "base_uri": "https://localhost:8080/",
          "height": 261
        },
        "outputId": "9efb5a0e-480c-42cb-e60a-021b20dd22a2"
      },
      "source": [
        "#Resultados de cada conjunto\n",
        "pd.DataFrame.from_dict(BSA.subsets_)"
      ],
      "execution_count": 132,
      "outputs": [
        {
          "output_type": "execute_result",
          "data": {
            "text/html": [
              "<div>\n",
              "<style scoped>\n",
              "    .dataframe tbody tr th:only-of-type {\n",
              "        vertical-align: middle;\n",
              "    }\n",
              "\n",
              "    .dataframe tbody tr th {\n",
              "        vertical-align: top;\n",
              "    }\n",
              "\n",
              "    .dataframe thead th {\n",
              "        text-align: right;\n",
              "    }\n",
              "</style>\n",
              "<table border=\"1\" class=\"dataframe\">\n",
              "  <thead>\n",
              "    <tr style=\"text-align: right;\">\n",
              "      <th></th>\n",
              "      <th>1</th>\n",
              "      <th>2</th>\n",
              "      <th>3</th>\n",
              "      <th>4</th>\n",
              "      <th>5</th>\n",
              "      <th>6</th>\n",
              "      <th>7</th>\n",
              "      <th>8</th>\n",
              "      <th>9</th>\n",
              "      <th>10</th>\n",
              "      <th>11</th>\n",
              "      <th>12</th>\n",
              "      <th>13</th>\n",
              "      <th>14</th>\n",
              "      <th>15</th>\n",
              "      <th>16</th>\n",
              "      <th>17</th>\n",
              "      <th>18</th>\n",
              "    </tr>\n",
              "  </thead>\n",
              "  <tbody>\n",
              "    <tr>\n",
              "      <th>feature_idx</th>\n",
              "      <td>(11,)</td>\n",
              "      <td>(2, 11)</td>\n",
              "      <td>(2, 6, 11)</td>\n",
              "      <td>(1, 2, 6, 11)</td>\n",
              "      <td>(1, 2, 3, 6, 11)</td>\n",
              "      <td>(1, 2, 3, 6, 7, 11)</td>\n",
              "      <td>(1, 2, 3, 6, 7, 11, 15)</td>\n",
              "      <td>(1, 2, 3, 6, 7, 10, 11, 15)</td>\n",
              "      <td>(1, 2, 3, 6, 7, 10, 11, 14, 15)</td>\n",
              "      <td>(1, 2, 3, 6, 7, 10, 11, 12, 14, 15)</td>\n",
              "      <td>(1, 2, 3, 6, 7, 10, 11, 12, 13, 14, 15)</td>\n",
              "      <td>(1, 2, 3, 6, 7, 8, 10, 11, 12, 13, 14, 15)</td>\n",
              "      <td>(1, 2, 3, 6, 7, 8, 9, 10, 11, 12, 13, 14, 15)</td>\n",
              "      <td>(0, 1, 2, 3, 6, 7, 8, 9, 10, 11, 12, 13, 14, 15)</td>\n",
              "      <td>(0, 1, 2, 3, 6, 7, 8, 9, 10, 11, 12, 13, 14, 1...</td>\n",
              "      <td>(0, 1, 2, 3, 6, 7, 8, 9, 10, 11, 12, 13, 14, 1...</td>\n",
              "      <td>(0, 1, 2, 3, 4, 6, 7, 8, 9, 10, 11, 12, 13, 14...</td>\n",
              "      <td>(0, 1, 2, 3, 4, 5, 6, 7, 8, 9, 10, 11, 12, 13,...</td>\n",
              "    </tr>\n",
              "    <tr>\n",
              "      <th>cv_scores</th>\n",
              "      <td>[0.37378277153558054]</td>\n",
              "      <td>[0.3940074906367041]</td>\n",
              "      <td>[0.4101123595505618]</td>\n",
              "      <td>[0.4142322097378277]</td>\n",
              "      <td>[0.4205992509363296]</td>\n",
              "      <td>[0.42846441947565544]</td>\n",
              "      <td>[0.4314606741573034]</td>\n",
              "      <td>[0.43820224719101125]</td>\n",
              "      <td>[0.4389513108614232]</td>\n",
              "      <td>[0.448689138576779]</td>\n",
              "      <td>[0.4696629213483146]</td>\n",
              "      <td>[0.44644194756554306]</td>\n",
              "      <td>[0.44269662921348313]</td>\n",
              "      <td>[0.449063670411985]</td>\n",
              "      <td>[0.43595505617977526]</td>\n",
              "      <td>[0.4411985018726592]</td>\n",
              "      <td>[0.4779026217228464]</td>\n",
              "      <td>[0.45280898876404496]</td>\n",
              "    </tr>\n",
              "    <tr>\n",
              "      <th>avg_score</th>\n",
              "      <td>0.373783</td>\n",
              "      <td>0.394007</td>\n",
              "      <td>0.410112</td>\n",
              "      <td>0.414232</td>\n",
              "      <td>0.420599</td>\n",
              "      <td>0.428464</td>\n",
              "      <td>0.431461</td>\n",
              "      <td>0.438202</td>\n",
              "      <td>0.438951</td>\n",
              "      <td>0.448689</td>\n",
              "      <td>0.469663</td>\n",
              "      <td>0.446442</td>\n",
              "      <td>0.442697</td>\n",
              "      <td>0.449064</td>\n",
              "      <td>0.435955</td>\n",
              "      <td>0.441199</td>\n",
              "      <td>0.477903</td>\n",
              "      <td>0.452809</td>\n",
              "    </tr>\n",
              "    <tr>\n",
              "      <th>feature_names</th>\n",
              "      <td>(11,)</td>\n",
              "      <td>(2, 11)</td>\n",
              "      <td>(2, 6, 11)</td>\n",
              "      <td>(1, 2, 6, 11)</td>\n",
              "      <td>(1, 2, 3, 6, 11)</td>\n",
              "      <td>(1, 2, 3, 6, 7, 11)</td>\n",
              "      <td>(1, 2, 3, 6, 7, 11, 15)</td>\n",
              "      <td>(1, 2, 3, 6, 7, 10, 11, 15)</td>\n",
              "      <td>(1, 2, 3, 6, 7, 10, 11, 14, 15)</td>\n",
              "      <td>(1, 2, 3, 6, 7, 10, 11, 12, 14, 15)</td>\n",
              "      <td>(1, 2, 3, 6, 7, 10, 11, 12, 13, 14, 15)</td>\n",
              "      <td>(1, 2, 3, 6, 7, 8, 10, 11, 12, 13, 14, 15)</td>\n",
              "      <td>(1, 2, 3, 6, 7, 8, 9, 10, 11, 12, 13, 14, 15)</td>\n",
              "      <td>(0, 1, 2, 3, 6, 7, 8, 9, 10, 11, 12, 13, 14, 15)</td>\n",
              "      <td>(0, 1, 2, 3, 6, 7, 8, 9, 10, 11, 12, 13, 14, 1...</td>\n",
              "      <td>(0, 1, 2, 3, 6, 7, 8, 9, 10, 11, 12, 13, 14, 1...</td>\n",
              "      <td>(0, 1, 2, 3, 4, 6, 7, 8, 9, 10, 11, 12, 13, 14...</td>\n",
              "      <td>(0, 1, 2, 3, 4, 5, 6, 7, 8, 9, 10, 11, 12, 13,...</td>\n",
              "    </tr>\n",
              "  </tbody>\n",
              "</table>\n",
              "</div>"
            ],
            "text/plain": [
              "                                  1   ...                                                 18\n",
              "feature_idx                    (11,)  ...  (0, 1, 2, 3, 4, 5, 6, 7, 8, 9, 10, 11, 12, 13,...\n",
              "cv_scores      [0.37378277153558054]  ...                              [0.45280898876404496]\n",
              "avg_score                   0.373783  ...                                           0.452809\n",
              "feature_names                  (11,)  ...  (0, 1, 2, 3, 4, 5, 6, 7, 8, 9, 10, 11, 12, 13,...\n",
              "\n",
              "[4 rows x 18 columns]"
            ]
          },
          "metadata": {},
          "execution_count": 132
        }
      ]
    },
    {
      "cell_type": "markdown",
      "metadata": {
        "id": "uqrxBNASJLE8"
      },
      "source": [
        "##Busqueda secuencial hacia atrás"
      ]
    },
    {
      "cell_type": "code",
      "metadata": {
        "id": "dRBaD3y3JKYM"
      },
      "source": [
        "def BusquedaSecuencialHaciaAtras(X,Y,num_ft):\n",
        "  estimator= MLPClassifier(activation='logistic',hidden_layer_sizes= tuple(3*[100]), max_iter=1000)\n",
        "  BSA = SFS(estimator, \n",
        "            k_features=num_ft, \n",
        "            forward=False, \n",
        "            floating=False, \n",
        "            verbose=2,\n",
        "            scoring='accuracy',\n",
        "            cv=0)\n",
        "  BSA = BSA.fit(X, y)\n",
        "  return BSA"
      ],
      "execution_count": 159,
      "outputs": []
    },
    {
      "cell_type": "code",
      "metadata": {
        "id": "tbDkC7I7JSm6"
      },
      "source": [
        "BSB=BusquedaSecuencialHaciaAtras(X,y,X.shape[1])"
      ],
      "execution_count": 160,
      "outputs": []
    },
    {
      "cell_type": "code",
      "metadata": {
        "colab": {
          "base_uri": "https://localhost:8080/",
          "height": 173
        },
        "id": "kNuJCn-EJTLt",
        "outputId": "54180fb1-eea1-496d-ff56-3324f25b1371"
      },
      "source": [
        "pd.DataFrame.from_dict(BSB.subsets_)"
      ],
      "execution_count": 161,
      "outputs": [
        {
          "output_type": "execute_result",
          "data": {
            "text/html": [
              "<div>\n",
              "<style scoped>\n",
              "    .dataframe tbody tr th:only-of-type {\n",
              "        vertical-align: middle;\n",
              "    }\n",
              "\n",
              "    .dataframe tbody tr th {\n",
              "        vertical-align: top;\n",
              "    }\n",
              "\n",
              "    .dataframe thead th {\n",
              "        text-align: right;\n",
              "    }\n",
              "</style>\n",
              "<table border=\"1\" class=\"dataframe\">\n",
              "  <thead>\n",
              "    <tr style=\"text-align: right;\">\n",
              "      <th></th>\n",
              "      <th>18</th>\n",
              "    </tr>\n",
              "  </thead>\n",
              "  <tbody>\n",
              "    <tr>\n",
              "      <th>avg_score</th>\n",
              "      <td>0.434831</td>\n",
              "    </tr>\n",
              "    <tr>\n",
              "      <th>cv_scores</th>\n",
              "      <td>[0.4348314606741573]</td>\n",
              "    </tr>\n",
              "    <tr>\n",
              "      <th>feature_idx</th>\n",
              "      <td>(0, 1, 2, 3, 4, 5, 6, 7, 8, 9, 10, 11, 12, 13,...</td>\n",
              "    </tr>\n",
              "    <tr>\n",
              "      <th>feature_names</th>\n",
              "      <td>(0, 1, 2, 3, 4, 5, 6, 7, 8, 9, 10, 11, 12, 13,...</td>\n",
              "    </tr>\n",
              "  </tbody>\n",
              "</table>\n",
              "</div>"
            ],
            "text/plain": [
              "                                                              18\n",
              "avg_score                                               0.434831\n",
              "cv_scores                                   [0.4348314606741573]\n",
              "feature_idx    (0, 1, 2, 3, 4, 5, 6, 7, 8, 9, 10, 11, 12, 13,...\n",
              "feature_names  (0, 1, 2, 3, 4, 5, 6, 7, 8, 9, 10, 11, 12, 13,..."
            ]
          },
          "metadata": {},
          "execution_count": 161
        }
      ]
    },
    {
      "cell_type": "markdown",
      "metadata": {
        "id": "1tLp3woYvogj"
      },
      "source": [
        "###Nuevo grupo de datos"
      ]
    },
    {
      "cell_type": "code",
      "metadata": {
        "id": "ngxl0A5UvsYO"
      },
      "source": [
        "Xbsa = df.drop(['APM','AssignToHotkeys', 'UniqueHotkeys','NumberOfPACs',\n",
        "                'GapBetweenPACs', 'ActionLatency', 'ActionsInPAC', \n",
        "                'TotalMapExplored', 'WorkersMade'], axis=1).copy().values\n",
        "Ybsa = df.LeagueIndex.values"
      ],
      "execution_count": 30,
      "outputs": []
    },
    {
      "cell_type": "code",
      "metadata": {
        "id": "cDHgelnqvsUE"
      },
      "source": [
        "Xbsa, Xbsa_val, Ybsa, Ybsa_val = train_test_split(Xbsa, Ybsa, test_size=0.2, stratify=Ybsa)"
      ],
      "execution_count": 31,
      "outputs": []
    },
    {
      "cell_type": "markdown",
      "metadata": {
        "id": "dcK9W81qhzrE"
      },
      "source": [
        "###Evaluación de los 3 mejores modelos"
      ]
    },
    {
      "cell_type": "markdown",
      "metadata": {
        "id": "B7nZeHwLolV2"
      },
      "source": [
        "redes neuronales artificiales"
      ]
    },
    {
      "cell_type": "code",
      "metadata": {
        "colab": {
          "base_uri": "https://localhost:8080/",
          "height": 78
        },
        "id": "aJD1P1glhzgF",
        "outputId": "6c71ace1-1a3c-4753-9c04-8a09366a5346"
      },
      "source": [
        "rna = MLPClassifier(activation='logistic',hidden_layer_sizes= tuple(3*[100]), \n",
        "                    max_iter=1000).fit(X=Xbsa,y=Ybsa)\n",
        "Ybsa_val_predictrna = rna.predict(Xbsa_val)\n",
        "tablaResultados(y_true=Ybsa_val,y_pred=Ybsa_val_predictrna)"
      ],
      "execution_count": 35,
      "outputs": [
        {
          "output_type": "execute_result",
          "data": {
            "text/html": [
              "<div>\n",
              "<style scoped>\n",
              "    .dataframe tbody tr th:only-of-type {\n",
              "        vertical-align: middle;\n",
              "    }\n",
              "\n",
              "    .dataframe tbody tr th {\n",
              "        vertical-align: top;\n",
              "    }\n",
              "\n",
              "    .dataframe thead th {\n",
              "        text-align: right;\n",
              "    }\n",
              "</style>\n",
              "<table border=\"1\" class=\"dataframe\">\n",
              "  <thead>\n",
              "    <tr style=\"text-align: right;\">\n",
              "      <th></th>\n",
              "      <th>Balanced Accuracy test</th>\n",
              "      <th>Std test</th>\n",
              "      <th>Matthews corrcoef test</th>\n",
              "    </tr>\n",
              "  </thead>\n",
              "  <tbody>\n",
              "    <tr>\n",
              "      <th>0</th>\n",
              "      <td>0.155383</td>\n",
              "      <td>0.0</td>\n",
              "      <td>0.031032</td>\n",
              "    </tr>\n",
              "  </tbody>\n",
              "</table>\n",
              "</div>"
            ],
            "text/plain": [
              "   Balanced Accuracy test  Std test  Matthews corrcoef test\n",
              "0                0.155383       0.0                0.031032"
            ]
          },
          "metadata": {},
          "execution_count": 35
        }
      ]
    },
    {
      "cell_type": "markdown",
      "metadata": {
        "id": "2zy6v-U2on2h"
      },
      "source": [
        "Maquina de soporte vectorial"
      ]
    },
    {
      "cell_type": "code",
      "metadata": {
        "colab": {
          "base_uri": "https://localhost:8080/",
          "height": 78
        },
        "id": "Oo58-40rhzd3",
        "outputId": "6718a060-126f-40f3-c6f2-ebe6f04b7587"
      },
      "source": [
        "msv = SVC( kernel= \"linear\" , gamma= 0.01 , C= 2).fit(X=Xbsa, y=Ybsa)\n",
        "Ybsa_val_predictmsv = msv.predict(X=Xbsa_val)\n",
        "tablaResultados(y_true=Ybsa_val,y_pred=Ybsa_val_predictmsv)"
      ],
      "execution_count": 40,
      "outputs": [
        {
          "output_type": "execute_result",
          "data": {
            "text/html": [
              "<div>\n",
              "<style scoped>\n",
              "    .dataframe tbody tr th:only-of-type {\n",
              "        vertical-align: middle;\n",
              "    }\n",
              "\n",
              "    .dataframe tbody tr th {\n",
              "        vertical-align: top;\n",
              "    }\n",
              "\n",
              "    .dataframe thead th {\n",
              "        text-align: right;\n",
              "    }\n",
              "</style>\n",
              "<table border=\"1\" class=\"dataframe\">\n",
              "  <thead>\n",
              "    <tr style=\"text-align: right;\">\n",
              "      <th></th>\n",
              "      <th>Balanced Accuracy test</th>\n",
              "      <th>Std test</th>\n",
              "      <th>Matthews corrcoef test</th>\n",
              "    </tr>\n",
              "  </thead>\n",
              "  <tbody>\n",
              "    <tr>\n",
              "      <th>0</th>\n",
              "      <td>0.151292</td>\n",
              "      <td>0.0</td>\n",
              "      <td>0.017009</td>\n",
              "    </tr>\n",
              "  </tbody>\n",
              "</table>\n",
              "</div>"
            ],
            "text/plain": [
              "   Balanced Accuracy test  Std test  Matthews corrcoef test\n",
              "0                0.151292       0.0                0.017009"
            ]
          },
          "metadata": {},
          "execution_count": 40
        }
      ]
    },
    {
      "cell_type": "markdown",
      "metadata": {
        "id": "sYcnZhYioqXY"
      },
      "source": [
        "Gradient boosting tree"
      ]
    },
    {
      "cell_type": "code",
      "metadata": {
        "colab": {
          "base_uri": "https://localhost:8080/",
          "height": 78
        },
        "id": "-6aJr5JyhzcC",
        "outputId": "1157d07c-416a-4418-bb38-7ce6f92769e2"
      },
      "source": [
        "gbt= GradientBoostingClassifier(n_estimators= 10, max_depth=1).fit(Xbsa,Ybsa)\n",
        "Ybsa_val_predictgbt =  gbt.predict(Xbsa_val)\n",
        "tablaResultados(y_true=Ybsa_val,y_pred=Ybsa_val_predictgbt)"
      ],
      "execution_count": 42,
      "outputs": [
        {
          "output_type": "execute_result",
          "data": {
            "text/html": [
              "<div>\n",
              "<style scoped>\n",
              "    .dataframe tbody tr th:only-of-type {\n",
              "        vertical-align: middle;\n",
              "    }\n",
              "\n",
              "    .dataframe tbody tr th {\n",
              "        vertical-align: top;\n",
              "    }\n",
              "\n",
              "    .dataframe thead th {\n",
              "        text-align: right;\n",
              "    }\n",
              "</style>\n",
              "<table border=\"1\" class=\"dataframe\">\n",
              "  <thead>\n",
              "    <tr style=\"text-align: right;\">\n",
              "      <th></th>\n",
              "      <th>Balanced Accuracy test</th>\n",
              "      <th>Std test</th>\n",
              "      <th>Matthews corrcoef test</th>\n",
              "    </tr>\n",
              "  </thead>\n",
              "  <tbody>\n",
              "    <tr>\n",
              "      <th>0</th>\n",
              "      <td>0.151292</td>\n",
              "      <td>0.0</td>\n",
              "      <td>0.01744</td>\n",
              "    </tr>\n",
              "  </tbody>\n",
              "</table>\n",
              "</div>"
            ],
            "text/plain": [
              "   Balanced Accuracy test  Std test  Matthews corrcoef test\n",
              "0                0.151292       0.0                 0.01744"
            ]
          },
          "metadata": {},
          "execution_count": 42
        }
      ]
    },
    {
      "cell_type": "markdown",
      "metadata": {
        "id": "3clsQCnRZna-"
      },
      "source": [
        "##Extracción de características"
      ]
    },
    {
      "cell_type": "code",
      "metadata": {
        "id": "8auu6wFLVRAT"
      },
      "source": [
        "def training_PCA(n_comp, X, Y):\n",
        "\n",
        "    Errores = np.ones(5)\n",
        "    j = 0\n",
        "    kf =  StratifiedKFold(n_splits=5)\n",
        "\n",
        "    varianza_acumulada=[]\n",
        "\n",
        "    for train_index, test_index in kf.split(X,Y):  \n",
        "        X_train, X_test = X[train_index], X[test_index]\n",
        "        y_train, y_test = Y[train_index], Y[test_index]\n",
        "        \n",
        "        # ¿es necesario estandarizacion de datos?\n",
        "        scaler = StandardScaler()\n",
        "        X_train = scaler.fit_transform(X_train)\n",
        "        X_test = scaler.transform(X_test)\n",
        " \n",
        "        pca = PCA(n_components=n_comp)\n",
        "        X_train_pca = pca.fit_transform(X= X_train)\n",
        "        X_test_pca = pca.transform(X= X_test)\n",
        "\n",
        "        varianza_acumulada.append(sum(pca.explained_variance_ratio_))\n",
        "\n",
        "    return np.mean(varianza_acumulada)"
      ],
      "execution_count": 162,
      "outputs": []
    },
    {
      "cell_type": "code",
      "metadata": {
        "id": "8ot4KywvvPik"
      },
      "source": [
        "def testing_PCA(n_feats, X, Y):\n",
        "    df = pd.DataFrame()\n",
        "    idx = 0\n",
        "   \n",
        "    for f in n_feats:\n",
        "        #Implemetamos la metodología de validación \n",
        "        df.loc[idx,'NUM_VAR'] = f\n",
        "        df.loc[idx,'% VAR ACUM'] = training_PCA(n_comp=f, X=X,Y=Y)\n",
        "        idx+=1\n",
        "    return df"
      ],
      "execution_count": 163,
      "outputs": []
    },
    {
      "cell_type": "code",
      "metadata": {
        "id": "vA_MYXQ0vPgg",
        "colab": {
          "base_uri": "https://localhost:8080/",
          "height": 601
        },
        "outputId": "588ba96f-1fa4-4e2b-d565-8b3277cf335e"
      },
      "source": [
        "testing_PCA(n_feats=[1,2,3,4,5,6,7,8,9,10,11,12,13,14,15,16, 17, X.shape[1]], X= X, Y = y)"
      ],
      "execution_count": 170,
      "outputs": [
        {
          "output_type": "execute_result",
          "data": {
            "text/html": [
              "<div>\n",
              "<style scoped>\n",
              "    .dataframe tbody tr th:only-of-type {\n",
              "        vertical-align: middle;\n",
              "    }\n",
              "\n",
              "    .dataframe tbody tr th {\n",
              "        vertical-align: top;\n",
              "    }\n",
              "\n",
              "    .dataframe thead th {\n",
              "        text-align: right;\n",
              "    }\n",
              "</style>\n",
              "<table border=\"1\" class=\"dataframe\">\n",
              "  <thead>\n",
              "    <tr style=\"text-align: right;\">\n",
              "      <th></th>\n",
              "      <th>NUM_VAR</th>\n",
              "      <th>% VAR ACUM</th>\n",
              "    </tr>\n",
              "  </thead>\n",
              "  <tbody>\n",
              "    <tr>\n",
              "      <th>0</th>\n",
              "      <td>1.0</td>\n",
              "      <td>0.267940</td>\n",
              "    </tr>\n",
              "    <tr>\n",
              "      <th>1</th>\n",
              "      <td>2.0</td>\n",
              "      <td>0.383177</td>\n",
              "    </tr>\n",
              "    <tr>\n",
              "      <th>2</th>\n",
              "      <td>3.0</td>\n",
              "      <td>0.468253</td>\n",
              "    </tr>\n",
              "    <tr>\n",
              "      <th>3</th>\n",
              "      <td>4.0</td>\n",
              "      <td>0.539354</td>\n",
              "    </tr>\n",
              "    <tr>\n",
              "      <th>4</th>\n",
              "      <td>5.0</td>\n",
              "      <td>0.599351</td>\n",
              "    </tr>\n",
              "    <tr>\n",
              "      <th>5</th>\n",
              "      <td>6.0</td>\n",
              "      <td>0.654980</td>\n",
              "    </tr>\n",
              "    <tr>\n",
              "      <th>6</th>\n",
              "      <td>7.0</td>\n",
              "      <td>0.708274</td>\n",
              "    </tr>\n",
              "    <tr>\n",
              "      <th>7</th>\n",
              "      <td>8.0</td>\n",
              "      <td>0.754808</td>\n",
              "    </tr>\n",
              "    <tr>\n",
              "      <th>8</th>\n",
              "      <td>9.0</td>\n",
              "      <td>0.796717</td>\n",
              "    </tr>\n",
              "    <tr>\n",
              "      <th>9</th>\n",
              "      <td>10.0</td>\n",
              "      <td>0.836685</td>\n",
              "    </tr>\n",
              "    <tr>\n",
              "      <th>10</th>\n",
              "      <td>11.0</td>\n",
              "      <td>0.875124</td>\n",
              "    </tr>\n",
              "    <tr>\n",
              "      <th>11</th>\n",
              "      <td>12.0</td>\n",
              "      <td>0.907932</td>\n",
              "    </tr>\n",
              "    <tr>\n",
              "      <th>12</th>\n",
              "      <td>13.0</td>\n",
              "      <td>0.936226</td>\n",
              "    </tr>\n",
              "    <tr>\n",
              "      <th>13</th>\n",
              "      <td>14.0</td>\n",
              "      <td>0.959549</td>\n",
              "    </tr>\n",
              "    <tr>\n",
              "      <th>14</th>\n",
              "      <td>15.0</td>\n",
              "      <td>0.978889</td>\n",
              "    </tr>\n",
              "    <tr>\n",
              "      <th>15</th>\n",
              "      <td>16.0</td>\n",
              "      <td>0.992888</td>\n",
              "    </tr>\n",
              "    <tr>\n",
              "      <th>16</th>\n",
              "      <td>17.0</td>\n",
              "      <td>0.999096</td>\n",
              "    </tr>\n",
              "    <tr>\n",
              "      <th>17</th>\n",
              "      <td>18.0</td>\n",
              "      <td>1.000000</td>\n",
              "    </tr>\n",
              "  </tbody>\n",
              "</table>\n",
              "</div>"
            ],
            "text/plain": [
              "    NUM_VAR  % VAR ACUM\n",
              "0       1.0    0.267940\n",
              "1       2.0    0.383177\n",
              "2       3.0    0.468253\n",
              "3       4.0    0.539354\n",
              "4       5.0    0.599351\n",
              "5       6.0    0.654980\n",
              "6       7.0    0.708274\n",
              "7       8.0    0.754808\n",
              "8       9.0    0.796717\n",
              "9      10.0    0.836685\n",
              "10     11.0    0.875124\n",
              "11     12.0    0.907932\n",
              "12     13.0    0.936226\n",
              "13     14.0    0.959549\n",
              "14     15.0    0.978889\n",
              "15     16.0    0.992888\n",
              "16     17.0    0.999096\n",
              "17     18.0    1.000000"
            ]
          },
          "metadata": {},
          "execution_count": 170
        }
      ]
    },
    {
      "cell_type": "code",
      "metadata": {
        "id": "-ZBbpIiLvPeM",
        "colab": {
          "base_uri": "https://localhost:8080/",
          "height": 294
        },
        "outputId": "be2a0df0-1707-44de-f7ea-cbf64a89148c"
      },
      "source": [
        "pca_varianza = PCA(n_components=X.shape[1]).fit(StandardScaler().fit_transform(X))\n",
        "plt.plot(np.cumsum(pca_varianza.explained_variance_/np.sum(pca_varianza.explained_variance_)))\n",
        "plt.title('Varianza acumulada')\n",
        "plt.xlabel('Componentes principales')\n",
        "plt.ylabel('Porcentaje de varianza acumulada')\n",
        "plt.grid()"
      ],
      "execution_count": 165,
      "outputs": [
        {
          "output_type": "display_data",
          "data": {
            "image/png": "[encoded data removed]",
            "text/plain": [
              "<Figure size 432x288 with 1 Axes>"
            ]
          },
          "metadata": {
            "needs_background": "light"
          }
        }
      ]
    },
    {
      "cell_type": "markdown",
      "metadata": {
        "id": "yp7pQLikgB7s"
      },
      "source": [
        "###Nuevo grupo de datos"
      ]
    },
    {
      "cell_type": "code",
      "metadata": {
        "id": "_RUChgV_vZff"
      },
      "source": [
        "Xpca = df.drop(['NumberOfPACs', 'GapBetweenPACs', 'ActionLatency',\n",
        "       'ActionsInPAC', 'TotalMapExplored', 'WorkersMade', 'UniqueUnitsMade',\n",
        "       'ComplexUnitsMade', 'ComplexAbilitiesUsed'], axis=1).copy().values\n",
        "Ypca = df.LeagueIndex.values"
      ],
      "execution_count": 37,
      "outputs": []
    },
    {
      "cell_type": "code",
      "metadata": {
        "id": "e9EiZOpJgWWj"
      },
      "source": [
        "Xpca, Xpca_val, Ypca, Ypca_val = train_test_split(Xpca, Ypca, test_size=0.2, stratify=Ypca)"
      ],
      "execution_count": 38,
      "outputs": []
    },
    {
      "cell_type": "markdown",
      "metadata": {
        "id": "8bJbrPOFgFID"
      },
      "source": [
        "###Evaluación de los 3 mejores modelos"
      ]
    },
    {
      "cell_type": "markdown",
      "metadata": {
        "id": "GZa5Ppf0gN6Y"
      },
      "source": [
        "Redes neuronales artificiales"
      ]
    },
    {
      "cell_type": "code",
      "metadata": {
        "id": "cAY3sD2HvZJz",
        "colab": {
          "base_uri": "https://localhost:8080/",
          "height": 78
        },
        "outputId": "1e732f85-ca32-4466-df70-a526040ff691"
      },
      "source": [
        "rna = MLPClassifier(activation='logistic',hidden_layer_sizes= tuple(3*[100]), max_iter=1000).fit(X=Xpca,y=Ypca)\n",
        "Ypca_val_predictrna = rna.predict(Xpca_val)\n",
        "tablaResultados(y_true=Ypca_val,y_pred=Ypca_val_predictrna)"
      ],
      "execution_count": 39,
      "outputs": [
        {
          "output_type": "execute_result",
          "data": {
            "text/html": [
              "<div>\n",
              "<style scoped>\n",
              "    .dataframe tbody tr th:only-of-type {\n",
              "        vertical-align: middle;\n",
              "    }\n",
              "\n",
              "    .dataframe tbody tr th {\n",
              "        vertical-align: top;\n",
              "    }\n",
              "\n",
              "    .dataframe thead th {\n",
              "        text-align: right;\n",
              "    }\n",
              "</style>\n",
              "<table border=\"1\" class=\"dataframe\">\n",
              "  <thead>\n",
              "    <tr style=\"text-align: right;\">\n",
              "      <th></th>\n",
              "      <th>Balanced Accuracy test</th>\n",
              "      <th>Std test</th>\n",
              "      <th>Matthews corrcoef test</th>\n",
              "    </tr>\n",
              "  </thead>\n",
              "  <tbody>\n",
              "    <tr>\n",
              "      <th>0</th>\n",
              "      <td>0.141679</td>\n",
              "      <td>0.0</td>\n",
              "      <td>-0.016615</td>\n",
              "    </tr>\n",
              "  </tbody>\n",
              "</table>\n",
              "</div>"
            ],
            "text/plain": [
              "   Balanced Accuracy test  Std test  Matthews corrcoef test\n",
              "0                0.141679       0.0               -0.016615"
            ]
          },
          "metadata": {},
          "execution_count": 39
        }
      ]
    },
    {
      "cell_type": "markdown",
      "metadata": {
        "id": "_0cNY6ICg-lE"
      },
      "source": [
        "Maquina de soporte vectorial"
      ]
    },
    {
      "cell_type": "code",
      "metadata": {
        "id": "9n-1aasMNS4k",
        "colab": {
          "base_uri": "https://localhost:8080/",
          "height": 78
        },
        "outputId": "811be8ef-dd3e-4a1f-9abe-afad1faa3ef8"
      },
      "source": [
        "msv = SVC( kernel= \"linear\" , gamma= 0.01 , C= 2).fit(X=Xpca, y=Ypca)\n",
        "Ypca_val_predictmsv = msv.predict(X=Xpca_val)\n",
        "tablaResultados(y_true=Ypca_val,y_pred=Ypca_val_predictmsv)"
      ],
      "execution_count": 41,
      "outputs": [
        {
          "output_type": "execute_result",
          "data": {
            "text/html": [
              "<div>\n",
              "<style scoped>\n",
              "    .dataframe tbody tr th:only-of-type {\n",
              "        vertical-align: middle;\n",
              "    }\n",
              "\n",
              "    .dataframe tbody tr th {\n",
              "        vertical-align: top;\n",
              "    }\n",
              "\n",
              "    .dataframe thead th {\n",
              "        text-align: right;\n",
              "    }\n",
              "</style>\n",
              "<table border=\"1\" class=\"dataframe\">\n",
              "  <thead>\n",
              "    <tr style=\"text-align: right;\">\n",
              "      <th></th>\n",
              "      <th>Balanced Accuracy test</th>\n",
              "      <th>Std test</th>\n",
              "      <th>Matthews corrcoef test</th>\n",
              "    </tr>\n",
              "  </thead>\n",
              "  <tbody>\n",
              "    <tr>\n",
              "      <th>0</th>\n",
              "      <td>0.140542</td>\n",
              "      <td>0.0</td>\n",
              "      <td>-0.007091</td>\n",
              "    </tr>\n",
              "  </tbody>\n",
              "</table>\n",
              "</div>"
            ],
            "text/plain": [
              "   Balanced Accuracy test  Std test  Matthews corrcoef test\n",
              "0                0.140542       0.0               -0.007091"
            ]
          },
          "metadata": {},
          "execution_count": 41
        }
      ]
    },
    {
      "cell_type": "markdown",
      "metadata": {
        "id": "hytLiFn3hA6c"
      },
      "source": [
        "Grandient boosting tree"
      ]
    },
    {
      "cell_type": "code",
      "metadata": {
        "colab": {
          "base_uri": "https://localhost:8080/",
          "height": 78
        },
        "id": "A-E9Ih31g-P4",
        "outputId": "3c915d7d-4b34-4f9a-f8f6-30b344a7029b"
      },
      "source": [
        "gbt= GradientBoostingClassifier(n_estimators= 10, max_depth=1).fit(Xpca,Ypca)\n",
        "Ypca_val_predictgbt =  gbt.predict(Xpca_val)\n",
        "tablaResultados(y_true=Ypca_val,y_pred=Ypca_val_predictgbt)"
      ],
      "execution_count": 43,
      "outputs": [
        {
          "output_type": "execute_result",
          "data": {
            "text/html": [
              "<div>\n",
              "<style scoped>\n",
              "    .dataframe tbody tr th:only-of-type {\n",
              "        vertical-align: middle;\n",
              "    }\n",
              "\n",
              "    .dataframe tbody tr th {\n",
              "        vertical-align: top;\n",
              "    }\n",
              "\n",
              "    .dataframe thead th {\n",
              "        text-align: right;\n",
              "    }\n",
              "</style>\n",
              "<table border=\"1\" class=\"dataframe\">\n",
              "  <thead>\n",
              "    <tr style=\"text-align: right;\">\n",
              "      <th></th>\n",
              "      <th>Balanced Accuracy test</th>\n",
              "      <th>Std test</th>\n",
              "      <th>Matthews corrcoef test</th>\n",
              "    </tr>\n",
              "  </thead>\n",
              "  <tbody>\n",
              "    <tr>\n",
              "      <th>0</th>\n",
              "      <td>0.140542</td>\n",
              "      <td>0.0</td>\n",
              "      <td>-0.006661</td>\n",
              "    </tr>\n",
              "  </tbody>\n",
              "</table>\n",
              "</div>"
            ],
            "text/plain": [
              "   Balanced Accuracy test  Std test  Matthews corrcoef test\n",
              "0                0.140542       0.0               -0.006661"
            ]
          },
          "metadata": {},
          "execution_count": 43
        }
      ]
    }
  ]
}